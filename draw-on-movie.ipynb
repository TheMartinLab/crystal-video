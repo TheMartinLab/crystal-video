{
 "cells": [
  {
   "cell_type": "code",
   "execution_count": null,
   "id": "b9910b25-32af-432c-89fe-fe4b0396d0ea",
   "metadata": {},
   "outputs": [],
   "source": []
  },
  {
   "cell_type": "code",
   "execution_count": 1,
   "id": "6ee742ad-8496-4c84-bc11-581c335a6c69",
   "metadata": {},
   "outputs": [],
   "source": [
    "## modify these parameters\n",
    "fname = 'data/3_9eq_03_02_2022_-25_005.mp4'\n",
    "\n",
    "# set to -1 to store one image per minute\n",
    "store_every = -1\n",
    "store_every = 100\n",
    "\n",
    "# set to -1 to read all of the images\n",
    "max_images_to_read = -1\n",
    "max_images_to_read = 10000"
   ]
  },
  {
   "cell_type": "code",
   "execution_count": 2,
   "id": "20362fb7-cdee-4375-9b48-dff44f74576a",
   "metadata": {},
   "outputs": [],
   "source": [
    "## don't modify below here, just execute"
   ]
  },
  {
   "cell_type": "code",
   "execution_count": 3,
   "id": "c16ae3b1-da93-4b6c-95d8-4300f3183a39",
   "metadata": {},
   "outputs": [
    {
     "name": "stdout",
     "output_type": "stream",
     "text": [
      "/Users/ericdill/dev/jdm/liquid-crystal\n"
     ]
    }
   ],
   "source": [
    "!pwd"
   ]
  },
  {
   "cell_type": "code",
   "execution_count": 4,
   "id": "efc6da7c-3d17-421b-bbad-aece727b77be",
   "metadata": {},
   "outputs": [],
   "source": [
    "import pathlib\n",
    "fname = pathlib.Path(fname)\n",
    "if not fname.exists():\n",
    "    raise RuntimeError(f\"Cannot find {fname}\")"
   ]
  },
  {
   "cell_type": "code",
   "execution_count": 5,
   "id": "68c9716c-74e8-4a88-80ff-de4a493b884c",
   "metadata": {},
   "outputs": [],
   "source": [
    "import numpy as np\n",
    "import cv2\n",
    "from matplotlib import pyplot as plt\n",
    "from tqdm.notebook import trange, tqdm\n",
    "import textwrap\n",
    "from ipywidgets import interact, interactive, fixed, interact_manual\n",
    "import ipywidgets as widgets\n",
    "import traitlets\n",
    "\n",
    "import matplotlib.patches as patches\n",
    "import matplotlib as mpl\n",
    "import numpy as np\n",
    "from ipywidgets import interactive\n",
    "import datetime"
   ]
  },
  {
   "cell_type": "code",
   "execution_count": 24,
   "id": "686a6fb0-1449-421c-a31d-e3d7882ea962",
   "metadata": {},
   "outputs": [],
   "source": [
    "%matplotlib widget"
   ]
  },
  {
   "cell_type": "code",
   "execution_count": 25,
   "id": "fc0bb14f-8461-478e-8ab9-9f51444f0eb3",
   "metadata": {},
   "outputs": [],
   "source": [
    "class VideoData(traitlets.HasTraits):\n",
    "    filename = traitlets.Any()\n",
    "    # Store every how many frames?\n",
    "    store_every = traitlets.Integer(default_value=-1)\n",
    "    # How many images should we ready into memory?\n",
    "    max_images_to_read = traitlets.Integer(default_value=-1)\n",
    "    \n",
    "    # parameters automatically managed by the class, don't set\n",
    "    _vid = traitlets.Any()\n",
    "    # _data = traitlets.Any()\n",
    "    _fps = traitlets.Float()\n",
    "    _frame_count = traitlets.Integer()\n",
    "    _duration = traitlets.Float()\n",
    "    _width = traitlets.Integer()\n",
    "    _height = traitlets.Integer()\n",
    "    _images_to_store = traitlets.Integer()\n",
    "    _time_between_stored_images = traitlets.Float()\n",
    "    \n",
    "    def __init__(self):\n",
    "        # write up interactivity\n",
    "        self.observe(self._new_params)\n",
    "        self._data = None\n",
    "    \n",
    "    def _parse_vid_metadata(self):\n",
    "        if self._vid is None:\n",
    "            return\n",
    "        self._fps = self._vid.get(cv2.CAP_PROP_FPS)\n",
    "        self._frame_count = int(self._vid.get(cv2.CAP_PROP_FRAME_COUNT))\n",
    "        self._duration = self._frame_count/self._fps\n",
    "        self._width = int(self._vid.get(cv2.CAP_PROP_FRAME_WIDTH))\n",
    "        self._height = int(self._vid.get(cv2.CAP_PROP_FRAME_HEIGHT))\n",
    "        \n",
    "        if self.store_every == -1:\n",
    "            self.store_every = int(np.ceil(self._fps))\n",
    "        if self.max_images_to_read == -1:\n",
    "            self.max_images_to_read = self._frame_count\n",
    "        \n",
    "        self._images_to_store = self.max_images_to_read // self.store_every\n",
    "        self._time_between_stored_images = self.store_every / self._fps\n",
    "    \n",
    "    def md(self):\n",
    "        all_traits = self.traits()\n",
    "        del all_traits['_vid']\n",
    "        d = {k: getattr(self, k) for k, v in all_traits.items()}\n",
    "        return d\n",
    "    \n",
    "    def _init_data(self):\n",
    "        self._data = np.zeros((self._images_to_store+1, self._height, self._width), dtype=np.uint8)\n",
    "    \n",
    "    def _open(self):\n",
    "        self._vid = cv2.VideoCapture(str(self.filename))\n",
    "        \n",
    "    def _new_params(self, update):\n",
    "        print(update)\n",
    "        if update['name'] == 'filename':\n",
    "            self._open()\n",
    "        if update['name'] in ('_vid', 'store_every', 'max_images_to_read'):\n",
    "            # parse the video metadata\n",
    "            self._parse_vid_metadata()\n",
    "            # self._init_data()\n",
    "            \n",
    "    def total_time(self):\n",
    "        seconds=int(self._frame_count / self._fps)\n",
    "        total_time = str(datetime.timedelta(seconds=seconds))\n",
    "        return seconds, f\"Movie duration: {total_time} (HH:MM:SS)\"\n",
    "\n",
    "    def index_metadata(self, idx):\n",
    "        seconds = idx * self.store_every / self._fps\n",
    "        dt = str(datetime.timedelta(seconds=seconds))\n",
    "        index = idx * self.store_every\n",
    "        return {'image_timestamp': dt, 'actual_image_index': index}\n",
    "\n",
    "    def read(self, callback=None, store_data=True):\n",
    "        \"\"\"Read in video frames up to `self.max_images_to_read` but only save every `self.store_every` in memory\"\"\"\n",
    "        # reset back to start of video\n",
    "        self._open()\n",
    "        # print out a message to the user letting them know what's about to happen\n",
    "        message = f\"Reading in {self.max_images_to_read} frames and \"\n",
    "        if store_data:\n",
    "            message += (f'storing one frame every {self.store_every} frames. '\n",
    "                        f\"This corresponds to one frame every {self._time_between_stored_images} second(s) \"\n",
    "                        f\"and {self._images_to_store} images will be stored in total.\")\n",
    "        else:\n",
    "            message += 'not storing any frames because store_data=False. '\n",
    "        print(message)\n",
    "        for idx in trange(self.max_images_to_read-1):\n",
    "            # read in an image\n",
    "            ret, frame = self._vid.read()\n",
    "            if not ret:\n",
    "                # no more frames to read\n",
    "                break\n",
    "            # convert it to grayscale\n",
    "            gray = cv2.cvtColor(frame, cv2.COLOR_BGR2GRAY)\n",
    "            if callback:\n",
    "                # this callback is used to inject some analytics into the middle of the read\n",
    "                # without having to write new code to do so\n",
    "                callback(gray, idx)\n",
    "            if idx % self.store_every == 0 and store_data:\n",
    "                # store the data if the user has asked us to do so\n",
    "                if self._data is None:\n",
    "                    self._init_data()\n",
    "                self._data[idx // self.store_every] = gray\n",
    "            \n",
    "        "
   ]
  },
  {
   "cell_type": "code",
   "execution_count": 14,
   "id": "e7ba7ef7-66b5-41f3-a3ea-aec27222052b",
   "metadata": {},
   "outputs": [
    {
     "name": "stdout",
     "output_type": "stream",
     "text": [
      "{'name': 'store_every', 'old': -1, 'new': 100, 'owner': <__main__.VideoData object at 0x1353db8b0>, 'type': 'change'}\n",
      "{'name': 'max_images_to_read', 'old': -1, 'new': 10000, 'owner': <__main__.VideoData object at 0x1353db8b0>, 'type': 'change'}\n",
      "{'name': 'filename', 'old': None, 'new': PosixPath('data/3_9eq_03_02_2022_-25_005.mp4'), 'owner': <__main__.VideoData object at 0x1353db8b0>, 'type': 'change'}\n",
      "{'name': '_vid', 'old': None, 'new': < cv2.VideoCapture 0x13576f8d0>, 'owner': <__main__.VideoData object at 0x1353db8b0>, 'type': 'change'}\n",
      "{'name': '_fps', 'old': 0.0, 'new': 13.12227601566946, 'owner': <__main__.VideoData object at 0x1353db8b0>, 'type': 'change'}\n",
      "{'name': '_frame_count', 'old': 0, 'new': 24780, 'owner': <__main__.VideoData object at 0x1353db8b0>, 'type': 'change'}\n",
      "{'name': '_duration', 'old': 0.0, 'new': 1888.3919199999998, 'owner': <__main__.VideoData object at 0x1353db8b0>, 'type': 'change'}\n",
      "{'name': '_width', 'old': 0, 'new': 1920, 'owner': <__main__.VideoData object at 0x1353db8b0>, 'type': 'change'}\n",
      "{'name': '_height', 'old': 0, 'new': 1200, 'owner': <__main__.VideoData object at 0x1353db8b0>, 'type': 'change'}\n",
      "{'name': '_images_to_store', 'old': 0, 'new': 100, 'owner': <__main__.VideoData object at 0x1353db8b0>, 'type': 'change'}\n",
      "{'name': '_time_between_stored_images', 'old': 0.0, 'new': 7.620629217110572, 'owner': <__main__.VideoData object at 0x1353db8b0>, 'type': 'change'}\n"
     ]
    },
    {
     "data": {
      "text/plain": [
       "({'image_timestamp': '0:00:07.620629', 'actual_image_index': 100},\n",
       " {'image_timestamp': '0:01:16.206292', 'actual_image_index': 1000})"
      ]
     },
     "execution_count": 14,
     "metadata": {},
     "output_type": "execute_result"
    }
   ],
   "source": [
    "v = VideoData()\n",
    "v.store_every = 100\n",
    "v.max_images_to_read = 10000\n",
    "v.filename = fname\n",
    "v.index_metadata(1), v.index_metadata(10)"
   ]
  },
  {
   "cell_type": "code",
   "execution_count": null,
   "id": "a321cefb-682c-4bc3-95fc-4bb66047382a",
   "metadata": {},
   "outputs": [
    {
     "name": "stdout",
     "output_type": "stream",
     "text": [
      "{'name': '_vid', 'old': < cv2.VideoCapture 0x13576f8d0>, 'new': < cv2.VideoCapture 0x1035b3230>, 'owner': <__main__.VideoData object at 0x1353db8b0>, 'type': 'change'}\n",
      "Reading in 10000 frames and storing one frame every 100 frames. This corresponds to one frame every 7.620629217110572 second(s) and 100 images will be stored in total.\n"
     ]
    },
    {
     "data": {
      "application/vnd.jupyter.widget-view+json": {
       "model_id": "ac5d85afad7b4484ba3b94f5a7ba3cf7",
       "version_major": 2,
       "version_minor": 0
      },
      "text/plain": [
       "  0%|          | 0/9999 [00:00<?, ?it/s]"
      ]
     },
     "metadata": {},
     "output_type": "display_data"
    }
   ],
   "source": [
    "v.read()"
   ]
  },
  {
   "cell_type": "code",
   "execution_count": 26,
   "id": "86f85759-b111-4ace-893a-4da2e1f8b4a4",
   "metadata": {},
   "outputs": [
    {
     "data": {
      "text/plain": [
       "Text(0, 0.5, 'total image intensity')"
      ]
     },
     "execution_count": 26,
     "metadata": {},
     "output_type": "execute_result"
    },
    {
     "data": {
      "application/vnd.jupyter.widget-view+json": {
       "model_id": "01eb5c9411d648c0a3026cf956c1a411",
       "version_major": 2,
       "version_minor": 0
      },
      "image/png": "[encoded data removed]",
      "text/html": [
       "\n",
       "            <div style=\"display: inline-block;\">\n",
       "                <div class=\"jupyter-widgets widget-label\" style=\"text-align: center;\">\n",
       "                    Figure\n",
       "                </div>\n",
       "                <img src='data:image/png;base64,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' width=432.0/>\n",
       "            </div>\n",
       "        "
      ],
      "text/plain": [
       "Canvas(toolbar=Toolbar(toolitems=[('Home', 'Reset original view', 'home', 'home'), ('Back', 'Back to previous …"
      ]
     },
     "metadata": {},
     "output_type": "display_data"
    }
   ],
   "source": [
    "## Plot summed intensity over time\n",
    "I = np.sum(v._data, axis=(1,2))\n",
    "fig, ax = plt.subplots()\n",
    "lines = ax.plot(I)\n",
    "ax.set_xlabel(\"frame index\")\n",
    "ax.set_ylabel(\"total image intensity\")"
   ]
  },
  {
   "cell_type": "code",
   "execution_count": 27,
   "id": "0677f3b4-4497-4a21-b3b6-a460e6632bdd",
   "metadata": {},
   "outputs": [],
   "source": [
    "def imshow_with_patches(ax, data, patches: dict):\n",
    "    try:\n",
    "        im = ax.images[-1]\n",
    "    except IndexError:\n",
    "        print(\"No image currently show. calling ax.imshow\")\n",
    "        im = ax.imshow(data)\n",
    "    else:\n",
    "        im.set_data(data)\n",
    "    \n",
    "    print(f\"Removing {len(ax.patches)} existing patches\")\n",
    "    \n",
    "    for existing_patch in ax.patches:\n",
    "        existing_patch.remove()\n",
    "    added_patches = {}\n",
    "    for patch_name, patch in patches.items():\n",
    "        print(f\"Adding patch for {patch_name}\")\n",
    "        added_patches[patch_name] = ax.add_patch(patch)\n",
    "    return im, added_patches\n",
    "    \n",
    "class VideoScrubber(traitlets.HasTraits):\n",
    "    video_data = traitlets.Any()\n",
    "    \n",
    "    def __init__(self):\n",
    "        self.slider = widgets.IntSlider()\n",
    "        self.timestamp = widgets.Text(description=\"HH:MM:SS\")\n",
    "        self.actual_frame = widgets.Text(description=\"actual frame\")\n",
    "        self.plot = widgets.Output()\n",
    "        # Init the matplotlib plot\n",
    "        self.fig, self.ax = plt.subplots()\n",
    "        self.patches = {}\n",
    "        \n",
    "        # Define the layout\n",
    "        with self.plot:\n",
    "            plt.show(self.fig)\n",
    "\n",
    "        # interactive_plot = interactive(self._plotter, idx=self.slider)\n",
    "        # interact(self._plotter, frame_idx=self.slider)\n",
    "        \n",
    "        self.layout = widgets.VBox([\n",
    "            self.slider,\n",
    "            self.plot,\n",
    "            self.timestamp, \n",
    "            self.actual_frame,\n",
    "        ])\n",
    "        \n",
    "        # display(self.layout)\n",
    "        \n",
    "        # wire up interactivity\n",
    "        \n",
    "        self.observe(self._updater_callback)\n",
    "        self.slider.observe(self._plotter_callback, names=['value'])\n",
    "        \n",
    "    \n",
    "    def _update_plot(self, frame_idx):\n",
    "        if self.video_data is None:\n",
    "            return\n",
    "        print(frame_idx)\n",
    "        # return\n",
    "        data = self.video_data._data[frame_idx]\n",
    "        imshow_with_patches(self.ax, data, self.patches)\n",
    "        # Get previous zoom\n",
    "        self.fig.canvas.draw_idle()\n",
    "        md = v.index_metadata(frame_idx)\n",
    "        self.timestamp.value = md['image_timestamp']\n",
    "        self.actual_frame.value = str(md['actual_image_index'])\n",
    "        #TODO Update other text boxes\n",
    "    \n",
    "    def _draw_patches(self):\n",
    "        patches = self.patches\n",
    "        frame_idx = self.slider.value\n",
    "        self._update_plot(frame_idx)\n",
    "        \n",
    "    def _plotter_callback(self, update):\n",
    "        frame_idx = update['new']\n",
    "        self._update_plot(frame_idx)\n",
    "        \n",
    "    def _updater_callback(self, update):\n",
    "        print(update)\n",
    "        if update['name'] == 'video_data':\n",
    "            md = self.video_data.md()\n",
    "            print(md)\n",
    "            "
   ]
  },
  {
   "cell_type": "code",
   "execution_count": 28,
   "id": "ffe06c22-997d-44da-b5f4-1b9bf552ce40",
   "metadata": {},
   "outputs": [
    {
     "name": "stdout",
     "output_type": "stream",
     "text": [
      "{'name': 'video_data', 'old': None, 'new': <__main__.VideoData object at 0x1353db8b0>, 'owner': <__main__.VideoScrubber object at 0x1359a91b0>, 'type': 'change'}\n",
      "{'_duration': 1888.3919199999998, '_fps': 13.12227601566946, '_frame_count': 24780, '_height': 1200, '_images_to_store': 100, '_time_between_stored_images': 7.620629217110572, '_width': 1920, 'filename': PosixPath('data/3_9eq_03_02_2022_-25_005.mp4'), 'max_images_to_read': 10000, 'store_every': 100}\n"
     ]
    },
    {
     "data": {
      "application/vnd.jupyter.widget-view+json": {
       "model_id": "72ae37bd0b9b4bff8cb5cd1a8b32f2ed",
       "version_major": 2,
       "version_minor": 0
      },
      "text/plain": [
       "VBox(children=(IntSlider(value=0), Output(), Text(value='', description='HH:MM:SS'), Text(value='', descriptio…"
      ]
     },
     "metadata": {},
     "output_type": "display_data"
    }
   ],
   "source": [
    "vs = VideoScrubber()\n",
    "vs.video_data = v\n",
    "\n",
    "display(vs.layout)\n"
   ]
  },
  {
   "cell_type": "code",
   "execution_count": 29,
   "id": "0792e543-e8be-42c2-a34f-63f4cd4f6988",
   "metadata": {},
   "outputs": [],
   "source": [
    "import ipywidgets"
   ]
  },
  {
   "cell_type": "code",
   "execution_count": 30,
   "id": "e5f01d5c-c113-4522-a39a-d79da04a8b6a",
   "metadata": {},
   "outputs": [],
   "source": [
    "import some_math"
   ]
  },
  {
   "cell_type": "code",
   "execution_count": 31,
   "id": "675333a0-5259-436a-b997-74dc1e925195",
   "metadata": {},
   "outputs": [],
   "source": [
    "import importlib\n",
    "importlib.reload(some_math)\n",
    "import some_math"
   ]
  },
  {
   "cell_type": "code",
   "execution_count": 32,
   "id": "1057e667-afba-4eff-a18a-663011ba556b",
   "metadata": {},
   "outputs": [
    {
     "data": {
      "application/vnd.jupyter.widget-view+json": {
       "model_id": "7c7adea0d6894023aad818dd5830b8ae",
       "version_major": 2,
       "version_minor": 0
      },
      "text/plain": [
       "HBox(children=(VBox(children=(IntSlider(value=0), Output(), Text(value='', description='HH:MM:SS'), Text(value…"
      ]
     },
     "metadata": {},
     "output_type": "display_data"
    },
    {
     "name": "stdout",
     "output_type": "stream",
     "text": [
      "{'name': 'video_data', 'old': None, 'new': <__main__.VideoData object at 0x1353db8b0>, 'owner': <__main__.VideoScrubber object at 0x137ab40a0>, 'type': 'change'}\n",
      "{'_duration': 1888.3919199999998, '_fps': 13.12227601566946, '_frame_count': 24780, '_height': 1200, '_images_to_store': 100, '_time_between_stored_images': 7.620629217110572, '_width': 1920, 'filename': PosixPath('data/3_9eq_03_02_2022_-25_005.mp4'), 'max_images_to_read': 10000, 'store_every': 100}\n"
     ]
    }
   ],
   "source": [
    "class UI(traitlets.HasTraits):\n",
    "    frame_idx = traitlets.Integer()\n",
    "    # video_data = traitlets.Any()\n",
    "    lines = traitlets.List()\n",
    "    \n",
    "    def __init__(self):\n",
    "        self.add_line_button = widgets.Button(description=\"Add Line\")\n",
    "        self.textbox = widgets.Text(description=\"HH:MM:SS\")\n",
    "        self.actual_frame = widgets.Text(description=\"actual frame\")\n",
    "        self.video_scrubber = VideoScrubber()\n",
    "        self.plot = widgets.Output()\n",
    "        self.slider = widgets.IntSlider()\n",
    "        self.line_patches = {}\n",
    "        \n",
    "        # Wire up interactivity\n",
    "        self.add_line_button.on_click(self._on_click)\n",
    "        # self.observe(self._new_data, names=['video_data'])\n",
    "        \n",
    "        # Do the displaying stuff\n",
    "        self.line_layout = widgets.VBox([self.add_line_button])\n",
    "        with self.plot:\n",
    "            plt.show(self.fig)\n",
    "            \n",
    "        self.layout = widgets.HBox([\n",
    "            self.video_scrubber.layout,\n",
    "            self.line_layout,\n",
    "        ])\n",
    "        display(self.layout)\n",
    "        \n",
    "        \n",
    "    def _on_click(self, b):\n",
    "        print(b)\n",
    "        lf = some_math.LinearFace()\n",
    "        lf.callback=self._update_line_data_callback\n",
    "        self.lines.append(lf)\n",
    "        self.line_layout.children = [_.layout for _ in self.lines] + [self.add_line_button]\n",
    "        \n",
    "    # def _new_data(self, data):\n",
    "    #     print(data)\n",
    "    #     print(self.video_data)\n",
    "    #     self.ax.imshow(self.video_data._data[0])\n",
    "    #     self.fig.canvas.draw()\n",
    "        \n",
    "    def _update_line_data_callback(self, obj):\n",
    "        print(f'received update for {obj.name}')\n",
    "        x0,y0 = obj.p1.x, obj.p1.y\n",
    "        width = float(obj.width.value)\n",
    "        height = float(obj.height.value)\n",
    "        color = obj.color_picker.value\n",
    "        th_deg = obj.rect_angle\n",
    "        print(f'rectangle info: x0={x0},y0={y0},width={width},height={height},th_deg={th_deg},color={color}')\n",
    "        patch = some_math.mpl_rect_patch(\n",
    "            x=x0, y=y0, width=width, height=height, color=color,\n",
    "            axes=self.video_scrubber.ax, rot=th_deg\n",
    "        )\n",
    "        self.line_patches[obj.name.value] = patch\n",
    "        self.video_scrubber.patches = self.line_patches\n",
    "        self.video_scrubber._draw_patches()\n",
    "        \n",
    "        \n",
    "        \n",
    "\n",
    "ui = UI()\n",
    "ui.video_scrubber.video_data = v"
   ]
  },
  {
   "cell_type": "code",
   "execution_count": 33,
   "id": "5bfedda9-264d-475b-83ea-6e9c1e91952c",
   "metadata": {},
   "outputs": [],
   "source": [
    "class Outputter:\n",
    "    def __init__(self, num_frames, patch, name):\n",
    "        self.patch = patch\n",
    "        self.num_frames = num_frames\n",
    "        self.name = name\n",
    "        # will be set on init_output\n",
    "        self.mask = None     \n",
    "        self.output_data = None\n",
    "        self.num_pixels = None\n",
    "    \n",
    "    def init_output(self, image):\n",
    "        self.mask = some_math.make_image_mask(image, self.patch)\n",
    "        self.num_pixels = len(self.mask[self.mask])\n",
    "        self.output_data = np.zeros(shape=(self.num_frames, self.num_pixels))\n",
    "        \n",
    "    def reader_callback(self, image, image_idx):\n",
    "        # print('in callback')\n",
    "        if self.mask is None:\n",
    "            self.init_output(image)\n",
    "            self.x, self.y, _ = some_math.extract_pixels_xyi(image, self.patch)\n",
    "        \n",
    "        I = image[self.mask]\n",
    "        self.output_data[image_idx] = I\n",
    "        \n",
    "            \n",
    "            "
   ]
  },
  {
   "cell_type": "code",
   "execution_count": 34,
   "id": "8de1bbf7-bcbc-493e-9bf0-e9a246c659b8",
   "metadata": {},
   "outputs": [],
   "source": [
    "num_frames = v._frame_count\n",
    "outputters = [Outputter(num_frames, patch, name=patch_name) for patch_name, patch in sorted(ui.video_scrubber.patches.items())]"
   ]
  },
  {
   "cell_type": "code",
   "execution_count": 35,
   "id": "dff7136c-5a6c-4b24-9256-89467f6c9c16",
   "metadata": {},
   "outputs": [],
   "source": [
    "def reader_callback(image, image_idx):\n",
    "    for outputter in outputters:\n",
    "        outputter.reader_callback(image, image_idx)"
   ]
  },
  {
   "cell_type": "code",
   "execution_count": 36,
   "id": "3c5fafb1-1c50-4080-8c51-08aadb18ee50",
   "metadata": {},
   "outputs": [
    {
     "name": "stdout",
     "output_type": "stream",
     "text": [
      "{'name': '_vid', 'old': < cv2.VideoCapture 0x1035b3230>, 'new': < cv2.VideoCapture 0x1410a4dd0>, 'owner': <__main__.VideoData object at 0x1353db8b0>, 'type': 'change'}\n",
      "{'name': 'max_images_to_read', 'old': 10000, 'new': -1, 'owner': <__main__.VideoData object at 0x1353db8b0>, 'type': 'change'}\n",
      "{'name': 'max_images_to_read', 'old': -1, 'new': 24780, 'owner': <__main__.VideoData object at 0x1353db8b0>, 'type': 'change'}\n",
      "{'name': '_images_to_store', 'old': 100, 'new': 247, 'owner': <__main__.VideoData object at 0x1353db8b0>, 'type': 'change'}\n",
      "{'name': '_vid', 'old': < cv2.VideoCapture 0x1410a4dd0>, 'new': < cv2.VideoCapture 0x1410a4650>, 'owner': <__main__.VideoData object at 0x1353db8b0>, 'type': 'change'}\n",
      "Reading in 24780 frames and not storing any frames because store_data=False. \n"
     ]
    },
    {
     "data": {
      "application/vnd.jupyter.widget-view+json": {
       "model_id": "97db40f5bd514ddc9bfbaf4621fbddae",
       "version_major": 2,
       "version_minor": 0
      },
      "text/plain": [
       "  0%|          | 0/24779 [00:00<?, ?it/s]"
      ]
     },
     "metadata": {},
     "output_type": "display_data"
    }
   ],
   "source": [
    "v._open()\n",
    "v.max_images_to_read=-1\n",
    "v.read(callback=reader_callback, store_data=False)"
   ]
  },
  {
   "cell_type": "code",
   "execution_count": 37,
   "id": "b8f5cab8-dd57-4dd8-af37-d8a75eb0398c",
   "metadata": {},
   "outputs": [
    {
     "data": {
      "text/plain": [
       "array([[50., 50., 50., ..., 48., 48., 48.],\n",
       "       [50., 50., 50., ..., 48., 48., 48.],\n",
       "       [50., 50., 50., ..., 48., 48., 48.],\n",
       "       ...,\n",
       "       [63., 63., 65., ..., 55., 55., 55.],\n",
       "       [63., 63., 65., ..., 55., 55., 55.],\n",
       "       [ 0.,  0.,  0., ...,  0.,  0.,  0.]])"
      ]
     },
     "execution_count": 37,
     "metadata": {},
     "output_type": "execute_result"
    }
   ],
   "source": [
    "outputter = outputters[0]\n",
    "outputter.output_data"
   ]
  },
  {
   "cell_type": "code",
   "execution_count": 42,
   "id": "582969aa-effd-4cb0-bbe1-c4edc019fd82",
   "metadata": {},
   "outputs": [
    {
     "data": {
      "text/plain": [
       "[<matplotlib.lines.Line2D at 0x1459769b0>]"
      ]
     },
     "execution_count": 42,
     "metadata": {},
     "output_type": "execute_result"
    },
    {
     "data": {
      "application/vnd.jupyter.widget-view+json": {
       "model_id": "2e81e56916384d2aaf331ec4a981b500",
       "version_major": 2,
       "version_minor": 0
      },
      "image/png": "[encoded data removed]",
      "text/html": [
       "\n",
       "            <div style=\"display: inline-block;\">\n",
       "                <div class=\"jupyter-widgets widget-label\" style=\"text-align: center;\">\n",
       "                    Figure\n",
       "                </div>\n",
       "                <img src='data:image/png;base64,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' width=432.0/>\n",
       "            </div>\n",
       "        "
      ],
      "text/plain": [
       "Canvas(toolbar=Toolbar(toolitems=[('Home', 'Reset original view', 'home', 'home'), ('Back', 'Back to previous …"
      ]
     },
     "metadata": {},
     "output_type": "display_data"
    }
   ],
   "source": [
    "outputter.output_data.shape\n",
    "\n",
    "i = outputter.output_data.sum(axis=1)\n",
    "\n",
    "fig, ax = plt.subplots()\n",
    "ax.plot(i)"
   ]
  },
  {
   "cell_type": "code",
   "execution_count": 43,
   "id": "7631627f-f24e-416d-8bad-cf31fbbada04",
   "metadata": {},
   "outputs": [
    {
     "data": {
      "text/plain": [
       "[<matplotlib.lines.Line2D at 0x1459b8eb0>]"
      ]
     },
     "execution_count": 43,
     "metadata": {},
     "output_type": "execute_result"
    },
    {
     "data": {
      "application/vnd.jupyter.widget-view+json": {
       "model_id": "e04ceafddd6a4e53a15636f8eaeb5a24",
       "version_major": 2,
       "version_minor": 0
      },
      "image/png": "[encoded data removed]",
      "text/html": [
       "\n",
       "            <div style=\"display: inline-block;\">\n",
       "                <div class=\"jupyter-widgets widget-label\" style=\"text-align: center;\">\n",
       "                    Figure\n",
       "                </div>\n",
       "                <img src='data:image/png;base64,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' width=432.0/>\n",
       "            </div>\n",
       "        "
      ],
      "text/plain": [
       "Canvas(toolbar=Toolbar(toolitems=[('Home', 'Reset original view', 'home', 'home'), ('Back', 'Back to previous …"
      ]
     },
     "metadata": {},
     "output_type": "display_data"
    }
   ],
   "source": [
    "outputter = outputters[1]\n",
    "outputter.output_data.shape\n",
    "\n",
    "i = outputter.output_data.sum(axis=1)\n",
    "\n",
    "fig, ax = plt.subplots()\n",
    "ax.plot(i)"
   ]
  },
  {
   "cell_type": "markdown",
   "id": "e2d5946e-ff1b-45a1-b6d8-7806ad504ccd",
   "metadata": {},
   "source": [
    "1. threshold the individual rectangles to determine is crystal or isnt crystal\n",
    "2. then get the percentage of the rectangle that is crystal\n",
    "3. then percentage times length and convert to distance"
   ]
  },
  {
   "cell_type": "code",
   "execution_count": null,
   "id": "8dad22d3-82e6-4c79-8c8b-dbb4aee80ea1",
   "metadata": {},
   "outputs": [],
   "source": []
  }
 ],
 "metadata": {
  "kernelspec": {
   "display_name": "Python 3 (ipykernel)",
   "language": "python",
   "name": "python3"
  },
  "language_info": {
   "codemirror_mode": {
    "name": "ipython",
    "version": 3
   },
   "file_extension": ".py",
   "mimetype": "text/x-python",
   "name": "python",
   "nbconvert_exporter": "python",
   "pygments_lexer": "ipython3",
   "version": "3.10.5"
  }
 },
 "nbformat": 4,
 "nbformat_minor": 5
}
