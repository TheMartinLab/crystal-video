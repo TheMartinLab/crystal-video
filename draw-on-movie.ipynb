{
 "cells": [
  {
   "cell_type": "code",
   "execution_count": null,
   "id": "b9910b25-32af-432c-89fe-fe4b0396d0ea",
   "metadata": {},
   "outputs": [],
   "source": []
  },
  {
   "cell_type": "code",
   "execution_count": 1,
   "id": "6ee742ad-8496-4c84-bc11-581c335a6c69",
   "metadata": {},
   "outputs": [],
   "source": [
    "## modify these parameters\n",
    "fname = 'data/3_9eq_03_02_2022_-25_005.mp4'\n",
    "\n",
    "# set to -1 to store one image per minute\n",
    "store_every = -1\n",
    "store_every = 100\n",
    "\n",
    "# set to -1 to read all of the images\n",
    "max_images_to_read = -1\n",
    "max_images_to_read = 10000"
   ]
  },
  {
   "cell_type": "code",
   "execution_count": 2,
   "id": "20362fb7-cdee-4375-9b48-dff44f74576a",
   "metadata": {},
   "outputs": [],
   "source": [
    "## don't modify below here, just execute"
   ]
  },
  {
   "cell_type": "code",
   "execution_count": 3,
   "id": "c16ae3b1-da93-4b6c-95d8-4300f3183a39",
   "metadata": {},
   "outputs": [
    {
     "name": "stdout",
     "output_type": "stream",
     "text": [
      "/Users/ericdill/dev/jdm/liquid-crystal\n"
     ]
    }
   ],
   "source": [
    "!pwd"
   ]
  },
  {
   "cell_type": "code",
   "execution_count": 4,
   "id": "efc6da7c-3d17-421b-bbad-aece727b77be",
   "metadata": {},
   "outputs": [],
   "source": [
    "import pathlib\n",
    "fname = pathlib.Path(fname)\n",
    "if not fname.exists():\n",
    "    raise RuntimeError(f\"Cannot find {fname}\")"
   ]
  },
  {
   "cell_type": "code",
   "execution_count": 5,
   "id": "68c9716c-74e8-4a88-80ff-de4a493b884c",
   "metadata": {},
   "outputs": [],
   "source": [
    "import numpy as np\n",
    "import cv2\n",
    "from matplotlib import pyplot as plt\n",
    "from tqdm.notebook import trange, tqdm\n",
    "import textwrap\n",
    "from ipywidgets import interact, interactive, fixed, interact_manual\n",
    "import ipywidgets as widgets\n",
    "import traitlets\n",
    "\n",
    "import matplotlib.patches as patches\n",
    "import matplotlib as mpl\n",
    "import numpy as np\n",
    "from ipywidgets import interactive\n",
    "import datetime"
   ]
  },
  {
   "cell_type": "code",
   "execution_count": 6,
   "id": "686a6fb0-1449-421c-a31d-e3d7882ea962",
   "metadata": {},
   "outputs": [],
   "source": [
    "%matplotlib inline"
   ]
  },
  {
   "cell_type": "code",
   "execution_count": 7,
   "id": "fc0bb14f-8461-478e-8ab9-9f51444f0eb3",
   "metadata": {},
   "outputs": [],
   "source": [
    "class VideoData(traitlets.HasTraits):\n",
    "    filename = traitlets.Any()\n",
    "    # Store every how many frames?\n",
    "    store_every = traitlets.Integer(default_value=-1)\n",
    "    # How many images should we ready into memory?\n",
    "    max_images_to_read = traitlets.Integer(default_value=-1)\n",
    "    \n",
    "    # parameters automatically managed by the class, don't set\n",
    "    _vid = traitlets.Any()\n",
    "    # _data = traitlets.Any()\n",
    "    _fps = traitlets.Float()\n",
    "    _frame_count = traitlets.Integer()\n",
    "    _duration = traitlets.Float()\n",
    "    _width = traitlets.Integer()\n",
    "    _height = traitlets.Integer()\n",
    "    _images_to_store = traitlets.Integer()\n",
    "    _time_between_stored_images = traitlets.Float()\n",
    "    \n",
    "    def __init__(self):\n",
    "        # write up interactivity\n",
    "        self.observe(self._new_params)\n",
    "        self._data = None\n",
    "    \n",
    "    def _parse_vid_metadata(self):\n",
    "        if self._vid is None:\n",
    "            return\n",
    "        self._fps = self._vid.get(cv2.CAP_PROP_FPS)\n",
    "        self._frame_count = int(self._vid.get(cv2.CAP_PROP_FRAME_COUNT))\n",
    "        self._duration = self._frame_count/self._fps\n",
    "        self._width = int(self._vid.get(cv2.CAP_PROP_FRAME_WIDTH))\n",
    "        self._height = int(self._vid.get(cv2.CAP_PROP_FRAME_HEIGHT))\n",
    "        \n",
    "        if self.store_every == -1:\n",
    "            self.store_every = int(np.ceil(self._fps))\n",
    "        if self.max_images_to_read == -1:\n",
    "            self.max_images_to_read = self._frame_count\n",
    "        \n",
    "        self._images_to_store = self.max_images_to_read // self.store_every\n",
    "        self._time_between_stored_images = self.store_every / self._fps\n",
    "    \n",
    "    def md(self):\n",
    "        all_traits = self.traits()\n",
    "        del all_traits['_vid']\n",
    "        d = {k: getattr(self, k) for k, v in all_traits.items()}\n",
    "        return d\n",
    "    \n",
    "    def _init_data(self):\n",
    "        self._data = np.zeros((self._images_to_store+1, self._height, self._width), dtype=np.uint8)\n",
    "        \n",
    "    def _new_params(self, update):\n",
    "        print(update)\n",
    "        if update['name'] == 'filename':\n",
    "            self._vid = cv2.VideoCapture(str(self.filename))\n",
    "        if update['name'] in ('_vid', 'store_every', 'max_images_to_read'):\n",
    "            # parse the video metadata\n",
    "            self._parse_vid_metadata()\n",
    "            self._init_data()\n",
    "            \n",
    "    def total_time(self):\n",
    "        seconds=int(self._frame_count / self._fps)\n",
    "        total_time = str(datetime.timedelta(seconds=seconds))\n",
    "        return seconds, f\"Movie duration: {total_time} (HH:MM:SS)\"\n",
    "\n",
    "    def index_metadata(self, idx):\n",
    "        seconds = idx * self.store_every / self._fps\n",
    "        dt = str(datetime.timedelta(seconds=seconds))\n",
    "        index = idx * self.store_every\n",
    "        return {'image_timestamp': dt, 'actual_image_index': index}\n",
    "\n",
    "    def read(self):\n",
    "        \"\"\"Read in video frames up to `self.max_images_to_read` but only save every `self.store_every` in memory\"\"\"\n",
    "        print(f\"Reading in {self.max_images_to_read} and storing one frame every {self.store_every} frames. \"\n",
    "              f\"This corresponds to one frame every {self._time_between_stored_images} second(s) \"\n",
    "              f\"and {self._data.shape[0]} images will be stored in total.\")\n",
    "        for idx in trange(self.max_images_to_read-1):\n",
    "            ret, frame = self._vid.read()\n",
    "            gray = cv2.cvtColor(frame, cv2.COLOR_BGR2GRAY)\n",
    "            if not ret:\n",
    "                # no more frames to read\n",
    "                break\n",
    "            if idx % self.store_every == 0:\n",
    "                self._data[idx // self.store_every] = gray\n",
    "            \n",
    "        "
   ]
  },
  {
   "cell_type": "code",
   "execution_count": 16,
   "id": "ddcd9af5-bebc-4284-91e0-6fe9618f485c",
   "metadata": {},
   "outputs": [],
   "source": [
    "v = VideoData()"
   ]
  },
  {
   "cell_type": "code",
   "execution_count": 17,
   "id": "03a95a6a-2d0c-461c-a6e0-98c33f626c1a",
   "metadata": {},
   "outputs": [
    {
     "name": "stdout",
     "output_type": "stream",
     "text": [
      "{'name': 'store_every', 'old': -1, 'new': 100, 'owner': <__main__.VideoData object at 0x152386890>, 'type': 'change'}\n",
      "{'name': 'max_images_to_read', 'old': -1, 'new': 10000, 'owner': <__main__.VideoData object at 0x152386890>, 'type': 'change'}\n"
     ]
    }
   ],
   "source": [
    "v.store_every = 100\n",
    "v.max_images_to_read = 10000"
   ]
  },
  {
   "cell_type": "code",
   "execution_count": 18,
   "id": "431300ff-617f-468a-a5fc-e8f569fd8c08",
   "metadata": {},
   "outputs": [
    {
     "name": "stdout",
     "output_type": "stream",
     "text": [
      "{'name': 'filename', 'old': None, 'new': PosixPath('data/3_9eq_03_02_2022_-25_005.mp4'), 'owner': <__main__.VideoData object at 0x152386890>, 'type': 'change'}\n",
      "{'name': '_vid', 'old': None, 'new': < cv2.VideoCapture 0x1522bf590>, 'owner': <__main__.VideoData object at 0x152386890>, 'type': 'change'}\n",
      "{'name': '_fps', 'old': 0.0, 'new': 13.12227601566946, 'owner': <__main__.VideoData object at 0x152386890>, 'type': 'change'}\n",
      "{'name': '_frame_count', 'old': 0, 'new': 24780, 'owner': <__main__.VideoData object at 0x152386890>, 'type': 'change'}\n",
      "{'name': '_duration', 'old': 0.0, 'new': 1888.3919199999998, 'owner': <__main__.VideoData object at 0x152386890>, 'type': 'change'}\n",
      "{'name': '_width', 'old': 0, 'new': 1920, 'owner': <__main__.VideoData object at 0x152386890>, 'type': 'change'}\n",
      "{'name': '_height', 'old': 0, 'new': 1200, 'owner': <__main__.VideoData object at 0x152386890>, 'type': 'change'}\n",
      "{'name': '_images_to_store', 'old': 0, 'new': 100, 'owner': <__main__.VideoData object at 0x152386890>, 'type': 'change'}\n",
      "{'name': '_time_between_stored_images', 'old': 0.0, 'new': 7.620629217110572, 'owner': <__main__.VideoData object at 0x152386890>, 'type': 'change'}\n"
     ]
    }
   ],
   "source": [
    "v.filename = fname"
   ]
  },
  {
   "cell_type": "code",
   "execution_count": 19,
   "id": "06262df7-acbf-4038-9000-61cf801bcb67",
   "metadata": {},
   "outputs": [
    {
     "data": {
      "text/plain": [
       "({'image_timestamp': '0:00:07.620629', 'actual_image_index': 100},\n",
       " {'image_timestamp': '0:01:16.206292', 'actual_image_index': 1000})"
      ]
     },
     "execution_count": 19,
     "metadata": {},
     "output_type": "execute_result"
    }
   ],
   "source": [
    "v.index_metadata(1), v.index_metadata(10)"
   ]
  },
  {
   "cell_type": "code",
   "execution_count": 20,
   "id": "a321cefb-682c-4bc3-95fc-4bb66047382a",
   "metadata": {},
   "outputs": [
    {
     "name": "stdout",
     "output_type": "stream",
     "text": [
      "Reading in 10000 and storing one frame every 100 frames. This corresponds to one frame every 7.620629217110572 second(s) and 101 images will be stored in total.\n"
     ]
    },
    {
     "data": {
      "application/vnd.jupyter.widget-view+json": {
       "model_id": "507a9a7ac9a84fd1aff3b9dd431f01f5",
       "version_major": 2,
       "version_minor": 0
      },
      "text/plain": [
       "  0%|          | 0/9999 [00:00<?, ?it/s]"
      ]
     },
     "metadata": {},
     "output_type": "display_data"
    }
   ],
   "source": [
    "v.read()"
   ]
  },
  {
   "cell_type": "code",
   "execution_count": 21,
   "id": "86f85759-b111-4ace-893a-4da2e1f8b4a4",
   "metadata": {},
   "outputs": [
    {
     "data": {
      "text/plain": [
       "Text(0, 0.5, 'total image intensity')"
      ]
     },
     "execution_count": 21,
     "metadata": {},
     "output_type": "execute_result"
    },
    {
     "data": {
      "image/png": "[encoded data removed]",
      "text/plain": [
       "<Figure size 432x288 with 1 Axes>"
      ]
     },
     "metadata": {
      "needs_background": "light"
     },
     "output_type": "display_data"
    }
   ],
   "source": [
    "## Plot summed intensity over time\n",
    "I = np.sum(v._data, axis=(1,2))\n",
    "fig, ax = plt.subplots()\n",
    "lines = ax.plot(I)\n",
    "ax.set_xlabel(\"frame index\")\n",
    "ax.set_ylabel(\"total image intensity\")"
   ]
  },
  {
   "cell_type": "code",
   "execution_count": 22,
   "id": "23317872-a5ff-45f7-9e67-f103ee12a5c3",
   "metadata": {},
   "outputs": [],
   "source": [
    "%matplotlib widget"
   ]
  },
  {
   "cell_type": "code",
   "execution_count": 23,
   "id": "ad39e083-4cac-44ac-85be-a6104168ac02",
   "metadata": {},
   "outputs": [
    {
     "data": {
      "text/plain": [
       "{'_duration': 1888.3919199999998,\n",
       " '_fps': 13.12227601566946,\n",
       " '_frame_count': 24780,\n",
       " '_height': 1200,\n",
       " '_images_to_store': 100,\n",
       " '_time_between_stored_images': 7.620629217110572,\n",
       " '_width': 1920,\n",
       " 'filename': PosixPath('data/3_9eq_03_02_2022_-25_005.mp4'),\n",
       " 'max_images_to_read': 10000,\n",
       " 'store_every': 100}"
      ]
     },
     "execution_count": 23,
     "metadata": {},
     "output_type": "execute_result"
    }
   ],
   "source": [
    "v.md()"
   ]
  },
  {
   "cell_type": "code",
   "execution_count": 94,
   "id": "0677f3b4-4497-4a21-b3b6-a460e6632bdd",
   "metadata": {},
   "outputs": [],
   "source": [
    "def imshow_with_patches(ax, data, patches: dict):\n",
    "    try:\n",
    "        im = ax.images[-1]\n",
    "    except IndexError:\n",
    "        print(\"No image currently show. calling ax.imshow\")\n",
    "        im = ax.imshow(data)\n",
    "    else:\n",
    "        im.set_data(data)\n",
    "    \n",
    "    print(f\"Removing {len(ax.patches)} existing patches\")\n",
    "    \n",
    "    for existing_patch in ax.patches:\n",
    "        existing_patch.remove()\n",
    "    added_patches = {}\n",
    "    for patch_name, patch in patches.items():\n",
    "        print(f\"Adding patch for {patch_name}\")\n",
    "        added_patches[patch_name] = ax.add_patch(patch)\n",
    "    return im, added_patches\n",
    "    \n",
    "class VideoScrubber(traitlets.HasTraits):\n",
    "    video_data = traitlets.Any()\n",
    "    \n",
    "    def __init__(self):\n",
    "        self.slider = widgets.IntSlider()\n",
    "        self.timestamp = widgets.Text(description=\"HH:MM:SS\")\n",
    "        self.actual_frame = widgets.Text(description=\"actual frame\")\n",
    "        self.plot = widgets.Output()\n",
    "        # Init the matplotlib plot\n",
    "        self.fig, self.ax = plt.subplots()\n",
    "        self.patches = {}\n",
    "        \n",
    "        # Define the layout\n",
    "        with self.plot:\n",
    "            plt.show(self.fig)\n",
    "\n",
    "        # interactive_plot = interactive(self._plotter, idx=self.slider)\n",
    "        # interact(self._plotter, frame_idx=self.slider)\n",
    "        \n",
    "        self.layout = widgets.VBox([\n",
    "            self.slider,\n",
    "            self.plot,\n",
    "            self.timestamp, \n",
    "            self.actual_frame,\n",
    "        ])\n",
    "        \n",
    "        # display(self.layout)\n",
    "        \n",
    "        # wire up interactivity\n",
    "        \n",
    "        self.observe(self._updater_callback)\n",
    "        self.slider.observe(self._plotter_callback, names=['value'])\n",
    "        \n",
    "    \n",
    "    def _update_plot(self, frame_idx):\n",
    "        if self.video_data is None:\n",
    "            return\n",
    "        print(frame_idx)\n",
    "        # return\n",
    "        data = self.video_data._data[frame_idx]\n",
    "        imshow_with_patches(self.ax, data, self.patches)\n",
    "        # Get previous zoom\n",
    "        self.fig.canvas.draw_idle()\n",
    "        md = v.index_metadata(frame_idx)\n",
    "        self.timestamp.value = md['image_timestamp']\n",
    "        self.actual_frame.value = str(md['actual_image_index'])\n",
    "        #TODO Update other text boxes\n",
    "    \n",
    "    def _draw_patches(self):\n",
    "        patches = self.patches\n",
    "        frame_idx = self.slider.value\n",
    "        self._update_plot(frame_idx)\n",
    "        \n",
    "    def _plotter_callback(self, update):\n",
    "        frame_idx = update['new']\n",
    "        self._update_plot(frame_idx)\n",
    "        \n",
    "    def _updater_callback(self, update):\n",
    "        print(update)\n",
    "        if update['name'] == 'video_data':\n",
    "            md = self.video_data.md()\n",
    "            print(md)\n",
    "            "
   ]
  },
  {
   "cell_type": "code",
   "execution_count": 96,
   "id": "ffe06c22-997d-44da-b5f4-1b9bf552ce40",
   "metadata": {},
   "outputs": [
    {
     "name": "stdout",
     "output_type": "stream",
     "text": [
      "{'name': 'video_data', 'old': None, 'new': <__main__.VideoData object at 0x152386890>, 'owner': <__main__.VideoScrubber object at 0x1563d1120>, 'type': 'change'}\n",
      "{'_duration': 1888.3919199999998, '_fps': 13.12227601566946, '_frame_count': 24780, '_height': 1200, '_images_to_store': 100, '_time_between_stored_images': 7.620629217110572, '_width': 1920, 'filename': PosixPath('data/3_9eq_03_02_2022_-25_005.mp4'), 'max_images_to_read': 10000, 'store_every': 100}\n"
     ]
    },
    {
     "data": {
      "application/vnd.jupyter.widget-view+json": {
       "model_id": "a792aeed71af4838b6a70781f19556b4",
       "version_major": 2,
       "version_minor": 0
      },
      "text/plain": [
       "VBox(children=(IntSlider(value=0), Output(), Text(value='', description='HH:MM:SS'), Text(value='', descriptio…"
      ]
     },
     "metadata": {},
     "output_type": "display_data"
    }
   ],
   "source": [
    "vs = VideoScrubber()\n",
    "vs.video_data = v\n",
    "\n",
    "display(vs.layout)\n"
   ]
  },
  {
   "cell_type": "code",
   "execution_count": 101,
   "id": "0792e543-e8be-42c2-a34f-63f4cd4f6988",
   "metadata": {},
   "outputs": [],
   "source": [
    "import ipywidgets"
   ]
  },
  {
   "cell_type": "code",
   "execution_count": 97,
   "id": "e5f01d5c-c113-4522-a39a-d79da04a8b6a",
   "metadata": {},
   "outputs": [],
   "source": [
    "import some_math"
   ]
  },
  {
   "cell_type": "code",
   "execution_count": 256,
   "id": "675333a0-5259-436a-b997-74dc1e925195",
   "metadata": {},
   "outputs": [],
   "source": [
    "import importlib\n",
    "importlib.reload(some_math)\n",
    "import some_math"
   ]
  },
  {
   "cell_type": "code",
   "execution_count": 257,
   "id": "1057e667-afba-4eff-a18a-663011ba556b",
   "metadata": {},
   "outputs": [
    {
     "data": {
      "application/vnd.jupyter.widget-view+json": {
       "model_id": "d7f943861bc348b7b7ba955df0306f98",
       "version_major": 2,
       "version_minor": 0
      },
      "text/plain": [
       "HBox(children=(VBox(children=(IntSlider(value=0), Output(), Text(value='', description='HH:MM:SS'), Text(value…"
      ]
     },
     "metadata": {},
     "output_type": "display_data"
    },
    {
     "name": "stdout",
     "output_type": "stream",
     "text": [
      "{'name': 'video_data', 'old': None, 'new': <__main__.VideoData object at 0x152386890>, 'owner': <__main__.VideoScrubber object at 0x280699960>, 'type': 'change'}\n",
      "{'_duration': 1888.3919199999998, '_fps': 13.12227601566946, '_frame_count': 24780, '_height': 1200, '_images_to_store': 100, '_time_between_stored_images': 7.620629217110572, '_width': 1920, 'filename': PosixPath('data/3_9eq_03_02_2022_-25_005.mp4'), 'max_images_to_read': 10000, 'store_every': 100}\n"
     ]
    }
   ],
   "source": [
    "class UI(traitlets.HasTraits):\n",
    "    frame_idx = traitlets.Integer()\n",
    "    # video_data = traitlets.Any()\n",
    "    lines = traitlets.List()\n",
    "    \n",
    "    def __init__(self):\n",
    "        self.add_line_button = widgets.Button(description=\"Add Line\")\n",
    "        self.textbox = widgets.Text(description=\"HH:MM:SS\")\n",
    "        self.actual_frame = widgets.Text(description=\"actual frame\")\n",
    "        self.video_scrubber = VideoScrubber()\n",
    "        self.plot = widgets.Output()\n",
    "        self.slider = widgets.IntSlider()\n",
    "        self.line_patches = {}\n",
    "        \n",
    "        # Wire up interactivity\n",
    "        self.add_line_button.on_click(self._on_click)\n",
    "        # self.observe(self._new_data, names=['video_data'])\n",
    "        \n",
    "        # Do the displaying stuff\n",
    "        self.line_layout = widgets.VBox([self.add_line_button])\n",
    "        with self.plot:\n",
    "            plt.show(self.fig)\n",
    "            \n",
    "        self.layout = widgets.HBox([\n",
    "            self.video_scrubber.layout,\n",
    "            self.line_layout,\n",
    "        ])\n",
    "        display(self.layout)\n",
    "        \n",
    "        \n",
    "    def _on_click(self, b):\n",
    "        print(b)\n",
    "        lf = some_math.LinearFace()\n",
    "        lf.callback=self._update_line_data_callback\n",
    "        self.lines.append(lf)\n",
    "        self.line_layout.children = [_.layout for _ in self.lines] + [self.add_line_button]\n",
    "        \n",
    "    # def _new_data(self, data):\n",
    "    #     print(data)\n",
    "    #     print(self.video_data)\n",
    "    #     self.ax.imshow(self.video_data._data[0])\n",
    "    #     self.fig.canvas.draw()\n",
    "        \n",
    "    def _update_line_data_callback(self, obj):\n",
    "        print(f'received update for {obj.name}')\n",
    "        x0,y0 = obj.p1.x, obj.p1.y\n",
    "        width = float(obj.width.value)\n",
    "        height = float(obj.height.value)\n",
    "        color = obj.color_picker.value\n",
    "        th_deg = obj.rect_angle\n",
    "        print(f'rectangle info: x0={x0},y0={y0},width={width},height={height},th_deg={th_deg},color={color}')\n",
    "        patch = some_math.mpl_rect_patch(\n",
    "            x=x0, y=y0, width=width, height=height, color=color,\n",
    "            axes=self.video_scrubber.ax, rot=th_deg\n",
    "        )\n",
    "        self.line_patches[obj.name.value] = patch\n",
    "        self.video_scrubber.patches = self.line_patches\n",
    "        self.video_scrubber._draw_patches()\n",
    "        \n",
    "        \n",
    "        \n",
    "\n",
    "ui = UI()\n",
    "ui.video_scrubber.video_data = v"
   ]
  },
  {
   "cell_type": "code",
   "execution_count": 30,
   "id": "7c398b21-7e98-4ee1-b8bc-a0772886b3a0",
   "metadata": {},
   "outputs": [
    {
     "data": {
      "text/plain": [
       "{}"
      ]
     },
     "execution_count": 30,
     "metadata": {},
     "output_type": "execute_result"
    }
   ],
   "source": [
    "ui.line_patches"
   ]
  },
  {
   "cell_type": "code",
   "execution_count": null,
   "id": "47356c6f-1c32-420d-9f55-d2a0f17f4953",
   "metadata": {},
   "outputs": [
    {
     "data": {
      "application/vnd.jupyter.widget-view+json": {
       "model_id": "c7f8cb09da5044a68c8aebc27e8ac096",
       "version_major": 2,
       "version_minor": 0
      },
      "image/png": "[encoded data removed]",
      "text/html": [
       "\n",
       "            <div style=\"display: inline-block;\">\n",
       "                <div class=\"jupyter-widgets widget-label\" style=\"text-align: center;\">\n",
       "                    Figure\n",
       "                </div>\n",
       "                <img src='data:image/png;base64,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' width=432.0/>\n",
       "            </div>\n",
       "        "
      ],
      "text/plain": [
       "Canvas(toolbar=Toolbar(toolitems=[('Home', 'Reset original view', 'home', 'home'), ('Back', 'Back to previous …"
      ]
     },
     "metadata": {},
     "output_type": "display_data"
    }
   ],
   "source": [
    "fig, ax = plt.subplots()"
   ]
  },
  {
   "cell_type": "code",
   "execution_count": null,
   "id": "5ee778ea-0448-410a-87a1-ab02f2d931d2",
   "metadata": {},
   "outputs": [],
   "source": [
    "ax.imshow(ui.video_scrubber.video_data._data[0])\n",
    "fig.canvas.draw()"
   ]
  },
  {
   "cell_type": "code",
   "execution_count": null,
   "id": "9d6787ec-e022-4dfe-8ecc-5c1ad507650a",
   "metadata": {},
   "outputs": [],
   "source": [
    "patch.remove()"
   ]
  },
  {
   "cell_type": "code",
   "execution_count": 114,
   "id": "c0aed19f-fa31-4372-b5f9-54ab6a5821a4",
   "metadata": {},
   "outputs": [],
   "source": [
    "x1,y1 = (500,500)\n",
    "w,h = (100,100)\n",
    "th2 = 0\n",
    "patch2 = patches.Rectangle((x1,y1), w,h, color='red', alpha=0.5)\n",
    "t2 = mpl.transforms.Affine2D().rotate_deg_around(x1,y1,th2) + ax.transData\n",
    "patch2.set_transform(t2)\n",
    "ax.add_patch(patch2)\n",
    "fig.canvas.draw()"
   ]
  },
  {
   "cell_type": "code",
   "execution_count": 113,
   "id": "5214c47a-da4c-46e2-a29d-fdf0f58ec26e",
   "metadata": {},
   "outputs": [],
   "source": [
    "patch2.remove()"
   ]
  },
  {
   "cell_type": "code",
   "execution_count": 110,
   "id": "22fa48fb-db5d-4c7c-86c6-d1fc057fbf5b",
   "metadata": {},
   "outputs": [],
   "source": [
    "patch = ui.line_patches['bowed amine']\n",
    "ax.add_patch(patch)\n",
    "fig.canvas.draw()"
   ]
  },
  {
   "cell_type": "code",
   "execution_count": 158,
   "id": "293f29f0-0b02-4855-bcb5-24ce4b9a6f0f",
   "metadata": {},
   "outputs": [
    {
     "data": {
      "application/vnd.jupyter.widget-view+json": {
       "model_id": "80bcb88c40e149949925d6bdacec4414",
       "version_major": 2,
       "version_minor": 0
      },
      "text/plain": [
       "HBox(children=(VBox(children=(Output(), IntSlider(value=0))), VBox(children=(Button(description='Add Line', st…"
      ]
     },
     "metadata": {},
     "output_type": "display_data"
    }
   ],
   "source": [
    "ui = UI()"
   ]
  },
  {
   "cell_type": "code",
   "execution_count": 159,
   "id": "2c426c31-5e43-4b31-abe6-d5b46d4451a1",
   "metadata": {},
   "outputs": [
    {
     "name": "stdout",
     "output_type": "stream",
     "text": [
      "{'name': 'video_data', 'old': None, 'new': <__main__.VideoData object at 0x7fe8d70f3bb0>, 'owner': <__main__.UI object at 0x7fe8daf63220>, 'type': 'change'}\n",
      "<__main__.VideoData object at 0x7fe8d70f3bb0>\n"
     ]
    }
   ],
   "source": [
    "ui.video_data = v"
   ]
  },
  {
   "cell_type": "code",
   "execution_count": 204,
   "id": "54b4f9e6-a1d0-4863-ae77-5ef1546a3492",
   "metadata": {},
   "outputs": [
    {
     "data": {
      "application/vnd.jupyter.widget-view+json": {
       "model_id": "9a025547dd9a4e268cd29762f55df1aa",
       "version_major": 2,
       "version_minor": 0
      },
      "image/png": "[encoded data removed]",
      "text/html": [
       "\n",
       "            <div style=\"display: inline-block;\">\n",
       "                <div class=\"jupyter-widgets widget-label\" style=\"text-align: center;\">\n",
       "                    Figure\n",
       "                </div>\n",
       "                <img src='data:image/png;base64,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' width=432.0/>\n",
       "            </div>\n",
       "        "
      ],
      "text/plain": [
       "Canvas(toolbar=Toolbar(toolitems=[('Home', 'Reset original view', 'home', 'home'), ('Back', 'Back to previous …"
      ]
     },
     "metadata": {},
     "output_type": "display_data"
    }
   ],
   "source": [
    "fig, ax = plt.subplots()"
   ]
  },
  {
   "cell_type": "code",
   "execution_count": 210,
   "id": "8638c5c7-c842-4a9b-8738-fd0087609db9",
   "metadata": {},
   "outputs": [],
   "source": [
    "def make_patch(x,y,w,h,th,color, ax):\n",
    "    patch = patches.Rectangle((x,y), w,h, color=color, alpha=0.5)\n",
    "    transform = mpl.transforms.Affine2D().rotate_deg_around(x1,y1,th2) + ax.transData\n",
    "    patch.set_transform(transform)\n",
    "    return patch\n",
    "    "
   ]
  },
  {
   "cell_type": "code",
   "execution_count": 194,
   "id": "5681e457-18ae-48ed-b6a8-4287ecbd282b",
   "metadata": {},
   "outputs": [],
   "source": [
    "import string\n",
    "import random"
   ]
  },
  {
   "cell_type": "code",
   "execution_count": 195,
   "id": "0f565b7a-13b6-457b-8531-e1a0fa05b92e",
   "metadata": {},
   "outputs": [],
   "source": [
    "opts = string.ascii_lowercase[:6] + string.digits\n",
    "\n",
    "color = lambda: f\"#{''.join(random.choices(opts, k=6))}\""
   ]
  },
  {
   "cell_type": "code",
   "execution_count": 196,
   "id": "ee586284-a4e8-4206-92ad-e4d1e9924362",
   "metadata": {},
   "outputs": [
    {
     "data": {
      "text/plain": [
       "'#8e0720'"
      ]
     },
     "execution_count": 196,
     "metadata": {},
     "output_type": "execute_result"
    }
   ],
   "source": [
    "color()"
   ]
  },
  {
   "cell_type": "code",
   "execution_count": 222,
   "id": "d70a17bb-abca-4ae5-bf17-ac2422a95d35",
   "metadata": {},
   "outputs": [],
   "source": [
    "x1,y1 = (900,900)\n",
    "w,h = (100,100)\n",
    "th2 = 45\n",
    "patch = make_patch(x1,y1,w,h,th2,color(), ax)\n",
    "ax.add_patch(patch)\n",
    "fig.canvas.draw()"
   ]
  },
  {
   "cell_type": "code",
   "execution_count": 198,
   "id": "26a07915-a964-4734-92da-e0e01da6692e",
   "metadata": {},
   "outputs": [],
   "source": [
    "fig.canvas.draw()"
   ]
  },
  {
   "cell_type": "code",
   "execution_count": 206,
   "id": "b2993619-3081-45ef-a987-41b40d75d139",
   "metadata": {},
   "outputs": [],
   "source": [
    "for p in ax.patches:\n",
    "    p.remove()\n",
    "fig.canvas.draw()"
   ]
  },
  {
   "cell_type": "code",
   "execution_count": 205,
   "id": "9231244f-6e3a-4b55-90cb-ea323d384c72",
   "metadata": {},
   "outputs": [
    {
     "data": {
      "text/plain": [
       "<matplotlib.image.AxesImage at 0x169dae050>"
      ]
     },
     "execution_count": 205,
     "metadata": {},
     "output_type": "execute_result"
    }
   ],
   "source": [
    "ax.imshow(v._data[-4])"
   ]
  },
  {
   "cell_type": "code",
   "execution_count": 208,
   "id": "90b61396-6e97-4616-b300-350d81fc830a",
   "metadata": {},
   "outputs": [],
   "source": [
    "patch.remove()"
   ]
  },
  {
   "cell_type": "code",
   "execution_count": 221,
   "id": "644abe66-97f4-40a5-a1ee-1543e7f085ed",
   "metadata": {},
   "outputs": [],
   "source": [
    "im = ax.images[-1]\n",
    "im.set_data(v._data[50])\n",
    "fig.canvas.draw()"
   ]
  },
  {
   "cell_type": "code",
   "execution_count": 209,
   "id": "8b59f682-c146-4c71-b1dd-19b396c2aeb9",
   "metadata": {},
   "outputs": [],
   "source": [
    "\n",
    "ax.add_patch(patch)\n",
    "fig.canvas.draw()"
   ]
  },
  {
   "cell_type": "code",
   "execution_count": null,
   "id": "3c5e4ee7-2673-4b6f-a8b8-a4799882d214",
   "metadata": {},
   "outputs": [],
   "source": []
  }
 ],
 "metadata": {
  "kernelspec": {
   "display_name": "Python 3 (ipykernel)",
   "language": "python",
   "name": "python3"
  },
  "language_info": {
   "codemirror_mode": {
    "name": "ipython",
    "version": 3
   },
   "file_extension": ".py",
   "mimetype": "text/x-python",
   "name": "python",
   "nbconvert_exporter": "python",
   "pygments_lexer": "ipython3",
   "version": "3.10.5"
  }
 },
 "nbformat": 4,
 "nbformat_minor": 5
}
