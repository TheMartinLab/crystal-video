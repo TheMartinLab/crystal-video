{
 "cells": [
  {
   "cell_type": "code",
   "execution_count": 20,
   "id": "b9910b25-32af-432c-89fe-fe4b0396d0ea",
   "metadata": {},
   "outputs": [],
   "source": []
  },
  {
   "cell_type": "code",
   "execution_count": 32,
   "id": "6ee742ad-8496-4c84-bc11-581c335a6c69",
   "metadata": {},
   "outputs": [],
   "source": [
    "## modify these parameters\n",
    "fname = 'data/3_58_-65_02-02-2022_00000000.mov'"
   ]
  },
  {
   "cell_type": "code",
   "execution_count": 36,
   "id": "20362fb7-cdee-4375-9b48-dff44f74576a",
   "metadata": {},
   "outputs": [],
   "source": [
    "## don't modify below here, just execute"
   ]
  },
  {
   "cell_type": "code",
   "execution_count": 37,
   "id": "c16ae3b1-da93-4b6c-95d8-4300f3183a39",
   "metadata": {},
   "outputs": [
    {
     "name": "stdout",
     "output_type": "stream",
     "text": [
      "/home/ericdill/dev/jdm/crystal-video\n"
     ]
    }
   ],
   "source": [
    "!pwd"
   ]
  },
  {
   "cell_type": "code",
   "execution_count": 39,
   "id": "efc6da7c-3d17-421b-bbad-aece727b77be",
   "metadata": {},
   "outputs": [],
   "source": [
    "import pathlib\n",
    "fname = pathlib.Path(fname)\n",
    "if not fname.exists():\n",
    "    raise RuntimeError(f\"Cannot find {fname}\")"
   ]
  },
  {
   "cell_type": "code",
   "execution_count": 40,
   "id": "68c9716c-74e8-4a88-80ff-de4a493b884c",
   "metadata": {},
   "outputs": [],
   "source": [
    "import numpy as np\n",
    "import cv2\n",
    "from matplotlib import pyplot as plt\n",
    "from tqdm.notebook import trange, tqdm\n",
    "import textwrap\n",
    "from ipywidgets import interact, interactive, fixed, interact_manual\n",
    "import ipywidgets as widgets\n",
    "\n",
    "from ipywidgets import interactive\n",
    "import datetime\n",
    "\n",
    "vid = cv2.VideoCapture('data/3_58_-65_02-02-2022_00000000.mov')\n"
   ]
  },
  {
   "cell_type": "code",
   "execution_count": 41,
   "id": "686a6fb0-1449-421c-a31d-e3d7882ea962",
   "metadata": {},
   "outputs": [],
   "source": [
    "%matplotlib inline"
   ]
  },
  {
   "cell_type": "code",
   "execution_count": 42,
   "id": "6a0fa5d6-c71b-4b94-b421-f040c40c7b3b",
   "metadata": {},
   "outputs": [
    {
     "name": "stdout",
     "output_type": "stream",
     "text": [
      "748.3s, 7483 frames, 10 fps\n",
      "1920 x 1080 (w x h)\n"
     ]
    }
   ],
   "source": [
    "fps = int(vid.get(cv2.CAP_PROP_FPS))\n",
    "frame_count = int(vid.get(cv2.CAP_PROP_FRAME_COUNT))\n",
    "duration = frame_count/fps\n",
    "print(f\"{duration}s, {frame_count} frames, {fps} fps\")\n",
    "\n",
    "w = int(vid.get(cv2.CAP_PROP_FRAME_WIDTH))\n",
    "h = int(vid.get(cv2.CAP_PROP_FRAME_HEIGHT))\n",
    "\n",
    "print(f\"{w} x {h} (w x h)\")"
   ]
  },
  {
   "cell_type": "code",
   "execution_count": 43,
   "id": "e1615e61-f5b2-45a3-939c-7b52874df5ce",
   "metadata": {},
   "outputs": [],
   "source": [
    "images_to_store = frame_count // fps\n"
   ]
  },
  {
   "cell_type": "code",
   "execution_count": 44,
   "id": "de528bf6-864a-4f60-880f-3d7a41a9dfb7",
   "metadata": {},
   "outputs": [
    {
     "name": "stdout",
     "output_type": "stream",
     "text": [
      "Storing one image per minute in memory.\n",
      "This will be 748 images out of 7483 total images\n"
     ]
    },
    {
     "data": {
      "application/vnd.jupyter.widget-view+json": {
       "model_id": "a3485ad6f61d4779a91aa1227a0b3ffd",
       "version_major": 2,
       "version_minor": 0
      },
      "text/plain": [
       "  0%|          | 0/7482 [00:00<?, ?it/s]"
      ]
     },
     "metadata": {},
     "output_type": "display_data"
    }
   ],
   "source": [
    "arr = np.zeros((images_to_store+1, h, w), dtype=np.uint8)\n",
    "\n",
    "ret = True\n",
    "frame = None\n",
    "frame_idx = 0\n",
    "store_idx = 0\n",
    "print(textwrap.dedent(f\"\"\"Storing one image per minute in memory.\n",
    "This will be {images_to_store} images out of {frame_count} total images\"\"\"))\n",
    "\n",
    "for idx in trange(frame_count-1):\n",
    "    ret, frame = vid.read()\n",
    "    if not ret:\n",
    "        break\n",
    "    gray = cv2.cvtColor(frame, cv2.COLOR_BGR2GRAY)\n",
    "    if idx % fps == 0:\n",
    "        arr[store_idx] = gray\n",
    "        # print(f\"{idx}.\",end='')\n",
    "        store_idx += 1\n"
   ]
  },
  {
   "cell_type": "code",
   "execution_count": 45,
   "id": "db30b95a-a45e-402f-9dbc-b2889b8debca",
   "metadata": {},
   "outputs": [
    {
     "data": {
      "text/plain": [
       "749"
      ]
     },
     "execution_count": 45,
     "metadata": {},
     "output_type": "execute_result"
    }
   ],
   "source": [
    "store_idx"
   ]
  },
  {
   "cell_type": "code",
   "execution_count": 46,
   "id": "90f45710-563a-4af2-ba81-cafa84daa94e",
   "metadata": {},
   "outputs": [
    {
     "data": {
      "application/vnd.jupyter.widget-view+json": {
       "model_id": "cec2aed6e3514f1fb15a46d8adb51881",
       "version_major": 2,
       "version_minor": 0
      },
      "text/plain": [
       "VBox(children=(HBox(children=(Text(value='', description='HH:MM:SS'), Text(value='', description='actual frame…"
      ]
     },
     "metadata": {},
     "output_type": "display_data"
    }
   ],
   "source": [
    "# fig2, ax2 = plt.subplots()\n",
    "\n",
    "def plotter_func(frame):\n",
    "    # ax2.imshow(arr[x])\n",
    "    # ax2.show()\n",
    "    # fig2.show()\n",
    "    plt.figure(2)\n",
    "    plt.imshow(arr[frame])\n",
    "    plt.show()\n",
    "    textbox.value = str(datetime.timedelta(seconds=frame * fps))\n",
    "    actual_frame.value = str(int(frame * fps))\n",
    "    # fig2.\n",
    "\n",
    "slider = widgets.IntSlider(min=0, max=len(arr)-1, step=1, value=len(arr)-1)\n",
    "textbox = widgets.Text(description=\"HH:MM:SS\")\n",
    "actual_frame = widgets.Text(description=\"actual frame\")\n",
    "interactive_plot = interactive(plotter_func, frame=slider)\n",
    "output = interactive_plot.children[-1]\n",
    "output.layout.height = '350px'\n",
    "widgets.VBox([\n",
    "    widgets.HBox([\n",
    "        textbox,\n",
    "        actual_frame,\n",
    "    ]),\n",
    "    interactive_plot\n",
    "])"
   ]
  },
  {
   "cell_type": "code",
   "execution_count": null,
   "id": "97c23b56-5812-4f06-afaa-5684ccc1ce8c",
   "metadata": {},
   "outputs": [],
   "source": []
  }
 ],
 "metadata": {
  "kernelspec": {
   "display_name": "Python 3 (ipykernel)",
   "language": "python",
   "name": "python3"
  },
  "language_info": {
   "codemirror_mode": {
    "name": "ipython",
    "version": 3
   },
   "file_extension": ".py",
   "mimetype": "text/x-python",
   "name": "python",
   "nbconvert_exporter": "python",
   "pygments_lexer": "ipython3",
   "version": "3.10.5"
  }
 },
 "nbformat": 4,
 "nbformat_minor": 5
}
