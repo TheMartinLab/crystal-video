{
 "cells": [
  {
   "cell_type": "code",
   "execution_count": null,
   "id": "b9910b25-32af-432c-89fe-fe4b0396d0ea",
   "metadata": {},
   "outputs": [],
   "source": []
  },
  {
   "cell_type": "code",
   "execution_count": 1,
   "id": "6ee742ad-8496-4c84-bc11-581c335a6c69",
   "metadata": {},
   "outputs": [],
   "source": [
    "## modify these parameters\n",
    "fname = 'data/3_9eq_03_02_2022_-25_005.mp4'\n",
    "\n",
    "# set to -1 to store one image per minute\n",
    "store_every = -1\n",
    "store_every = 100\n",
    "\n",
    "# set to -1 to read all of the images\n",
    "max_images_to_read = -1\n",
    "max_images_to_read = 10000"
   ]
  },
  {
   "cell_type": "code",
   "execution_count": 2,
   "id": "20362fb7-cdee-4375-9b48-dff44f74576a",
   "metadata": {},
   "outputs": [],
   "source": [
    "## don't modify below here, just execute"
   ]
  },
  {
   "cell_type": "code",
   "execution_count": 3,
   "id": "c16ae3b1-da93-4b6c-95d8-4300f3183a39",
   "metadata": {},
   "outputs": [
    {
     "name": "stdout",
     "output_type": "stream",
     "text": [
      "/Users/ericdill/dev/jdm/liquid-crystal\n"
     ]
    }
   ],
   "source": [
    "!pwd"
   ]
  },
  {
   "cell_type": "code",
   "execution_count": 4,
   "id": "efc6da7c-3d17-421b-bbad-aece727b77be",
   "metadata": {},
   "outputs": [],
   "source": [
    "import pathlib\n",
    "fname = pathlib.Path(fname)\n",
    "if not fname.exists():\n",
    "    raise RuntimeError(f\"Cannot find {fname}\")"
   ]
  },
  {
   "cell_type": "code",
   "execution_count": 5,
   "id": "68c9716c-74e8-4a88-80ff-de4a493b884c",
   "metadata": {},
   "outputs": [],
   "source": [
    "import numpy as np\n",
    "import cv2\n",
    "from matplotlib import pyplot as plt\n",
    "from tqdm.notebook import trange, tqdm\n",
    "import textwrap\n",
    "from ipywidgets import interact, interactive, fixed, interact_manual\n",
    "import ipywidgets as widgets\n",
    "import traitlets\n",
    "\n",
    "import matplotlib.patches as patches\n",
    "import matplotlib as mpl\n",
    "import numpy as np\n",
    "from ipywidgets import interactive\n",
    "import datetime\n",
    "import ipywidgets\n",
    "\n",
    "# some_math is the local module in this directory\n",
    "import some_math"
   ]
  },
  {
   "cell_type": "code",
   "execution_count": 19,
   "id": "686a6fb0-1449-421c-a31d-e3d7882ea962",
   "metadata": {},
   "outputs": [],
   "source": [
    "%matplotlib widget"
   ]
  },
  {
   "cell_type": "code",
   "execution_count": 13,
   "id": "fc0bb14f-8461-478e-8ab9-9f51444f0eb3",
   "metadata": {},
   "outputs": [],
   "source": [
    "class VideoData(traitlets.HasTraits):\n",
    "    filename = traitlets.Any()\n",
    "    # Store every how many frames?\n",
    "    store_every = traitlets.Integer(default_value=-1)\n",
    "    # How many images should we ready into memory?\n",
    "    max_images_to_read = traitlets.Integer(default_value=-1)\n",
    "    \n",
    "    # parameters automatically managed by the class, don't set\n",
    "    _vid = traitlets.Any()\n",
    "    # _data = traitlets.Any()\n",
    "    _fps = traitlets.Float()\n",
    "    _frame_count = traitlets.Integer()\n",
    "    _duration = traitlets.Float()\n",
    "    _width = traitlets.Integer()\n",
    "    _height = traitlets.Integer()\n",
    "    _images_to_store = traitlets.Integer()\n",
    "    _time_between_stored_images = traitlets.Float()\n",
    "    \n",
    "    def __init__(self):\n",
    "        # write up interactivity\n",
    "        self.observe(self._new_params)\n",
    "        self._data = None\n",
    "    \n",
    "    def _parse_vid_metadata(self):\n",
    "        if self._vid is None:\n",
    "            return\n",
    "        self._fps = self._vid.get(cv2.CAP_PROP_FPS)\n",
    "        self._frame_count = int(self._vid.get(cv2.CAP_PROP_FRAME_COUNT))\n",
    "        self._duration = self._frame_count/self._fps\n",
    "        self._width = int(self._vid.get(cv2.CAP_PROP_FRAME_WIDTH))\n",
    "        self._height = int(self._vid.get(cv2.CAP_PROP_FRAME_HEIGHT))\n",
    "        \n",
    "        if self.store_every == -1:\n",
    "            self.store_every = int(np.ceil(self._fps))\n",
    "        if self.max_images_to_read == -1:\n",
    "            self.max_images_to_read = self._frame_count\n",
    "        \n",
    "        self._images_to_store = self.max_images_to_read // self.store_every\n",
    "        self._time_between_stored_images = self.store_every / self._fps\n",
    "    \n",
    "    def md(self):\n",
    "        all_traits = self.traits()\n",
    "        del all_traits['_vid']\n",
    "        d = {k: getattr(self, k) for k, v in all_traits.items()}\n",
    "        return d\n",
    "    \n",
    "    def _init_data(self):\n",
    "        self._data = np.zeros((self._images_to_store+1, self._height, self._width), dtype=np.uint8)\n",
    "    \n",
    "    def _open(self):\n",
    "        self._vid = cv2.VideoCapture(str(self.filename))\n",
    "        \n",
    "    def _new_params(self, update):\n",
    "        print(update)\n",
    "        if update['name'] == 'filename':\n",
    "            self._open()\n",
    "        if update['name'] in ('_vid', 'store_every', 'max_images_to_read'):\n",
    "            # parse the video metadata\n",
    "            self._parse_vid_metadata()\n",
    "            # self._init_data()\n",
    "            \n",
    "    def total_time(self):\n",
    "        seconds=int(self._frame_count / self._fps)\n",
    "        total_time = str(datetime.timedelta(seconds=seconds))\n",
    "        return seconds, f\"Movie duration: {total_time} (HH:MM:SS)\"\n",
    "\n",
    "    def index_metadata(self, idx):\n",
    "        seconds = idx * self.store_every / self._fps\n",
    "        dt = str(datetime.timedelta(seconds=seconds))\n",
    "        index = idx * self.store_every\n",
    "        return {'image_timestamp': dt, 'actual_image_index': index}\n",
    "\n",
    "    def read(self, callback=None, store_data=True):\n",
    "        \"\"\"Read in video frames up to `self.max_images_to_read` but only save every `self.store_every` in memory\"\"\"\n",
    "        # reset back to start of video\n",
    "        self._open()\n",
    "        # print out a message to the user letting them know what's about to happen\n",
    "        message = f\"Reading in {self.max_images_to_read} frames and \"\n",
    "        if store_data:\n",
    "            message += (f'storing one frame every {self.store_every} frames. '\n",
    "                        f\"This corresponds to one frame every {self._time_between_stored_images} second(s) \"\n",
    "                        f\"and {self._images_to_store} images will be stored in total.\")\n",
    "        else:\n",
    "            message += 'not storing any frames because store_data=False. '\n",
    "        print(message)\n",
    "        for idx in trange(self.max_images_to_read-1):\n",
    "            # read in an image\n",
    "            ret, frame = self._vid.read()\n",
    "            if not ret:\n",
    "                # no more frames to read\n",
    "                break\n",
    "            # convert it to grayscale\n",
    "            gray = cv2.cvtColor(frame, cv2.COLOR_BGR2GRAY)\n",
    "            if callback:\n",
    "                # this callback is used to inject some analytics into the middle of the read\n",
    "                # without having to write new code to do so\n",
    "                callback(gray, idx)\n",
    "            if idx % self.store_every == 0 and store_data:\n",
    "                # store the data if the user has asked us to do so\n",
    "                if self._data is None:\n",
    "                    self._init_data()\n",
    "                self._data[idx // self.store_every] = gray\n",
    "            \n",
    "        "
   ]
  },
  {
   "cell_type": "code",
   "execution_count": 14,
   "id": "e7ba7ef7-66b5-41f3-a3ea-aec27222052b",
   "metadata": {},
   "outputs": [
    {
     "name": "stdout",
     "output_type": "stream",
     "text": [
      "{'name': 'store_every', 'old': -1, 'new': 100, 'owner': <__main__.VideoData object at 0x1353db8b0>, 'type': 'change'}\n",
      "{'name': 'max_images_to_read', 'old': -1, 'new': 10000, 'owner': <__main__.VideoData object at 0x1353db8b0>, 'type': 'change'}\n",
      "{'name': 'filename', 'old': None, 'new': PosixPath('data/3_9eq_03_02_2022_-25_005.mp4'), 'owner': <__main__.VideoData object at 0x1353db8b0>, 'type': 'change'}\n",
      "{'name': '_vid', 'old': None, 'new': < cv2.VideoCapture 0x13576f8d0>, 'owner': <__main__.VideoData object at 0x1353db8b0>, 'type': 'change'}\n",
      "{'name': '_fps', 'old': 0.0, 'new': 13.12227601566946, 'owner': <__main__.VideoData object at 0x1353db8b0>, 'type': 'change'}\n",
      "{'name': '_frame_count', 'old': 0, 'new': 24780, 'owner': <__main__.VideoData object at 0x1353db8b0>, 'type': 'change'}\n",
      "{'name': '_duration', 'old': 0.0, 'new': 1888.3919199999998, 'owner': <__main__.VideoData object at 0x1353db8b0>, 'type': 'change'}\n",
      "{'name': '_width', 'old': 0, 'new': 1920, 'owner': <__main__.VideoData object at 0x1353db8b0>, 'type': 'change'}\n",
      "{'name': '_height', 'old': 0, 'new': 1200, 'owner': <__main__.VideoData object at 0x1353db8b0>, 'type': 'change'}\n",
      "{'name': '_images_to_store', 'old': 0, 'new': 100, 'owner': <__main__.VideoData object at 0x1353db8b0>, 'type': 'change'}\n",
      "{'name': '_time_between_stored_images', 'old': 0.0, 'new': 7.620629217110572, 'owner': <__main__.VideoData object at 0x1353db8b0>, 'type': 'change'}\n"
     ]
    },
    {
     "data": {
      "text/plain": [
       "({'image_timestamp': '0:00:07.620629', 'actual_image_index': 100},\n",
       " {'image_timestamp': '0:01:16.206292', 'actual_image_index': 1000})"
      ]
     },
     "execution_count": 14,
     "metadata": {},
     "output_type": "execute_result"
    }
   ],
   "source": [
    "v = VideoData()\n",
    "v.store_every = 100\n",
    "v.max_images_to_read = 10000\n",
    "v.filename = fname\n",
    "v.index_metadata(1), v.index_metadata(10)"
   ]
  },
  {
   "cell_type": "code",
   "execution_count": 15,
   "id": "a321cefb-682c-4bc3-95fc-4bb66047382a",
   "metadata": {},
   "outputs": [
    {
     "name": "stdout",
     "output_type": "stream",
     "text": [
      "{'name': '_vid', 'old': < cv2.VideoCapture 0x13576f8d0>, 'new': < cv2.VideoCapture 0x1035b3230>, 'owner': <__main__.VideoData object at 0x1353db8b0>, 'type': 'change'}\n",
      "Reading in 10000 frames and storing one frame every 100 frames. This corresponds to one frame every 7.620629217110572 second(s) and 100 images will be stored in total.\n"
     ]
    },
    {
     "data": {
      "application/vnd.jupyter.widget-view+json": {
       "model_id": "ac5d85afad7b4484ba3b94f5a7ba3cf7",
       "version_major": 2,
       "version_minor": 0
      },
      "text/plain": [
       "  0%|          | 0/9999 [00:00<?, ?it/s]"
      ]
     },
     "metadata": {},
     "output_type": "display_data"
    }
   ],
   "source": [
    "v.read()"
   ]
  },
  {
   "cell_type": "code",
   "execution_count": 16,
   "id": "86f85759-b111-4ace-893a-4da2e1f8b4a4",
   "metadata": {},
   "outputs": [
    {
     "data": {
      "text/plain": [
       "Text(0, 0.5, 'total image intensity')"
      ]
     },
     "execution_count": 16,
     "metadata": {},
     "output_type": "execute_result"
    },
    {
     "data": {
      "image/png": "[encoded data removed]",
      "text/plain": [
       "<Figure size 432x288 with 1 Axes>"
      ]
     },
     "metadata": {
      "needs_background": "light"
     },
     "output_type": "display_data"
    }
   ],
   "source": [
    "## Plot summed intensity over time\n",
    "I = np.sum(v._data, axis=(1,2))\n",
    "fig, ax = plt.subplots()\n",
    "lines = ax.plot(I)\n",
    "ax.set_xlabel(\"frame index\")\n",
    "ax.set_ylabel(\"total image intensity\")"
   ]
  },
  {
   "cell_type": "code",
   "execution_count": 20,
   "id": "ad39e083-4cac-44ac-85be-a6104168ac02",
   "metadata": {},
   "outputs": [
    {
     "data": {
      "text/plain": [
       "{'_duration': 1888.3919199999998,\n",
       " '_fps': 13.12227601566946,\n",
       " '_frame_count': 24780,\n",
       " '_height': 1200,\n",
       " '_images_to_store': 100,\n",
       " '_time_between_stored_images': 7.620629217110572,\n",
       " '_width': 1920,\n",
       " 'filename': PosixPath('data/3_9eq_03_02_2022_-25_005.mp4'),\n",
       " 'max_images_to_read': 10000,\n",
       " 'store_every': 100}"
      ]
     },
     "execution_count": 20,
     "metadata": {},
     "output_type": "execute_result"
    }
   ],
   "source": [
    "v.md()"
   ]
  },
  {
   "cell_type": "code",
   "execution_count": 22,
   "id": "0677f3b4-4497-4a21-b3b6-a460e6632bdd",
   "metadata": {},
   "outputs": [],
   "source": [
    "def imshow_with_patches(ax, data, patches: dict):\n",
    "    try:\n",
    "        im = ax.images[-1]\n",
    "    except IndexError:\n",
    "        print(\"No image currently show. calling ax.imshow\")\n",
    "        im = ax.imshow(data)\n",
    "    else:\n",
    "        im.set_data(data)\n",
    "    \n",
    "    print(f\"Removing {len(ax.patches)} existing patches\")\n",
    "    \n",
    "    for existing_patch in ax.patches:\n",
    "        existing_patch.remove()\n",
    "    added_patches = {}\n",
    "    for patch_name, patch in patches.items():\n",
    "        print(f\"Adding patch for {patch_name}\")\n",
    "        added_patches[patch_name] = ax.add_patch(patch)\n",
    "    return im, added_patches\n",
    "    \n",
    "class VideoScrubber(traitlets.HasTraits):\n",
    "    video_data = traitlets.Any()\n",
    "    \n",
    "    def __init__(self):\n",
    "        self.slider = widgets.IntSlider()\n",
    "        self.timestamp = widgets.Text(description=\"HH:MM:SS\")\n",
    "        self.actual_frame = widgets.Text(description=\"actual frame\")\n",
    "        self.plot = widgets.Output()\n",
    "        # Init the matplotlib plot\n",
    "        self.fig, self.ax = plt.subplots()\n",
    "        self.patches = {}\n",
    "        \n",
    "        # Define the layout\n",
    "        with self.plot:\n",
    "            plt.show(self.fig)\n",
    "\n",
    "        # interactive_plot = interactive(self._plotter, idx=self.slider)\n",
    "        # interact(self._plotter, frame_idx=self.slider)\n",
    "        \n",
    "        self.layout = widgets.VBox([\n",
    "            self.slider,\n",
    "            self.plot,\n",
    "            self.timestamp, \n",
    "            self.actual_frame,\n",
    "        ])\n",
    "        \n",
    "        # display(self.layout)\n",
    "        \n",
    "        # wire up interactivity\n",
    "        \n",
    "        self.observe(self._updater_callback)\n",
    "        self.slider.observe(self._plotter_callback, names=['value'])\n",
    "        \n",
    "    \n",
    "    def _update_plot(self, frame_idx):\n",
    "        if self.video_data is None:\n",
    "            return\n",
    "        print(frame_idx)\n",
    "        # return\n",
    "        data = self.video_data._data[frame_idx]\n",
    "        imshow_with_patches(self.ax, data, self.patches)\n",
    "        # Get previous zoom\n",
    "        self.fig.canvas.draw_idle()\n",
    "        md = v.index_metadata(frame_idx)\n",
    "        self.timestamp.value = md['image_timestamp']\n",
    "        self.actual_frame.value = str(md['actual_image_index'])\n",
    "        #TODO Update other text boxes\n",
    "    \n",
    "    def _draw_patches(self):\n",
    "        patches = self.patches\n",
    "        frame_idx = self.slider.value\n",
    "        self._update_plot(frame_idx)\n",
    "        \n",
    "    def _plotter_callback(self, update):\n",
    "        frame_idx = update['new']\n",
    "        self._update_plot(frame_idx)\n",
    "        \n",
    "    def _updater_callback(self, update):\n",
    "        print(update)\n",
    "        if update['name'] == 'video_data':\n",
    "            md = self.video_data.md()\n",
    "            print(md)\n",
    "            "
   ]
  },
  {
   "cell_type": "code",
   "execution_count": null,
   "id": "675333a0-5259-436a-b997-74dc1e925195",
   "metadata": {},
   "outputs": [],
   "source": [
    "import importlib\n",
    "importlib.reload(some_math)\n",
    "import some_math"
   ]
  },
  {
   "cell_type": "code",
   "execution_count": null,
   "id": "1057e667-afba-4eff-a18a-663011ba556b",
   "metadata": {},
   "outputs": [],
   "source": [
    "class UI(traitlets.HasTraits):\n",
    "    frame_idx = traitlets.Integer()\n",
    "    # video_data = traitlets.Any()\n",
    "    lines = traitlets.List()\n",
    "    \n",
    "    def __init__(self):\n",
    "        self.add_line_button = widgets.Button(description=\"Add Line\")\n",
    "        self.textbox = widgets.Text(description=\"HH:MM:SS\")\n",
    "        self.actual_frame = widgets.Text(description=\"actual frame\")\n",
    "        self.video_scrubber = VideoScrubber()\n",
    "        self.plot = widgets.Output()\n",
    "        self.slider = widgets.IntSlider()\n",
    "        self.line_patches = {}\n",
    "        \n",
    "        # Wire up interactivity\n",
    "        self.add_line_button.on_click(self._on_click)\n",
    "        # self.observe(self._new_data, names=['video_data'])\n",
    "        \n",
    "        # Do the displaying stuff\n",
    "        self.line_layout = widgets.VBox([self.add_line_button])\n",
    "        with self.plot:\n",
    "            plt.show(self.fig)\n",
    "            \n",
    "        self.layout = widgets.HBox([\n",
    "            self.video_scrubber.layout,\n",
    "            self.line_layout,\n",
    "        ])\n",
    "        display(self.layout)\n",
    "        \n",
    "        \n",
    "    def _on_click(self, b):\n",
    "        print(b)\n",
    "        lf = some_math.LinearFace()\n",
    "        lf.callback=self._update_line_data_callback\n",
    "        self.lines.append(lf)\n",
    "        self.line_layout.children = [_.layout for _ in self.lines] + [self.add_line_button]\n",
    "        \n",
    "    # def _new_data(self, data):\n",
    "    #     print(data)\n",
    "    #     print(self.video_data)\n",
    "    #     self.ax.imshow(self.video_data._data[0])\n",
    "    #     self.fig.canvas.draw()\n",
    "        \n",
    "    def _update_line_data_callback(self, obj):\n",
    "        print(f'received update for {obj.name}')\n",
    "        x0,y0 = obj.p1.x, obj.p1.y\n",
    "        width = float(obj.width.value)\n",
    "        height = float(obj.height.value)\n",
    "        color = obj.color_picker.value\n",
    "        th_deg = obj.rect_angle\n",
    "        print(f'rectangle info: x0={x0},y0={y0},width={width},height={height},th_deg={th_deg},color={color}')\n",
    "        patch = some_math.mpl_rect_patch(\n",
    "            x=x0, y=y0, width=width, height=height, color=color,\n",
    "            axes=self.video_scrubber.ax, rot=th_deg\n",
    "        )\n",
    "        self.line_patches[obj.name.value] = patch\n",
    "        self.video_scrubber.patches = self.line_patches\n",
    "        self.video_scrubber._draw_patches()\n",
    "        \n",
    "        \n",
    "        \n",
    "\n",
    "ui = UI()\n",
    "ui.video_scrubber.video_data = v"
   ]
  },
  {
   "cell_type": "code",
   "execution_count": 161,
   "id": "5bfedda9-264d-475b-83ea-6e9c1e91952c",
   "metadata": {},
   "outputs": [],
   "source": [
    "class Outputter:\n",
    "    def __init__(self, num_frames, patch, name):\n",
    "        self.patch = patch\n",
    "        self.num_frames = num_frames\n",
    "        self.name = name\n",
    "        # will be set on init_output\n",
    "        self.mask = None     \n",
    "        self.output_data = None\n",
    "        self.num_pixels = None\n",
    "    \n",
    "    def init_output(self, image):\n",
    "        self.mask = some_math.make_image_mask(image, self.patch)\n",
    "        self.num_pixels = len(self.mask[self.mask])\n",
    "        self.output_data = np.zeros(shape=(self.num_frames, self.num_pixels))\n",
    "        \n",
    "    def reader_callback(self, image, image_idx):\n",
    "        # print('in callback')\n",
    "        if self.mask is None:\n",
    "            self.init_output(image)\n",
    "            self.x, self.y, _ = some_math.extract_pixels_xyi(image, self.patch)\n",
    "        \n",
    "        I = image[self.mask]\n",
    "        self.output_data[image_idx] = I\n",
    "        \n",
    "            \n",
    "            "
   ]
  },
  {
   "cell_type": "code",
   "execution_count": 162,
   "id": "8de1bbf7-bcbc-493e-9bf0-e9a246c659b8",
   "metadata": {},
   "outputs": [],
   "source": [
    "num_frames = v._frame_count\n",
    "outputters = [Outputter(num_frames, patch, name=patch_name) for patch_name, patch in sorted(ui.video_scrubber.patches.items())]"
   ]
  },
  {
   "cell_type": "code",
   "execution_count": 163,
   "id": "dff7136c-5a6c-4b24-9256-89467f6c9c16",
   "metadata": {},
   "outputs": [],
   "source": [
    "def reader_callback(image, image_idx):\n",
    "    for outputter in outputters:\n",
    "        outputter.reader_callback(image, image_idx)"
   ]
  },
  {
   "cell_type": "code",
   "execution_count": 164,
   "id": "3c5fafb1-1c50-4080-8c51-08aadb18ee50",
   "metadata": {},
   "outputs": [
    {
     "name": "stdout",
     "output_type": "stream",
     "text": [
      "{'name': '_vid', 'old': < cv2.VideoCapture 0x15b4a87f0>, 'new': < cv2.VideoCapture 0x15b4a8ff0>, 'owner': <__main__.VideoData object at 0x16b9e7310>, 'type': 'change'}\n",
      "{'name': 'max_images_to_read', 'old': 24780, 'new': -1, 'owner': <__main__.VideoData object at 0x16b9e7310>, 'type': 'change'}\n",
      "{'name': 'max_images_to_read', 'old': -1, 'new': 24780, 'owner': <__main__.VideoData object at 0x16b9e7310>, 'type': 'change'}\n",
      "Reading in 24780 frames and not storing any frame because store_data=False. \n"
     ]
    },
    {
     "data": {
      "application/vnd.jupyter.widget-view+json": {
       "model_id": "c9458019885b424386cfd31b3a4902b2",
       "version_major": 2,
       "version_minor": 0
      },
      "text/plain": [
       "  0%|          | 0/24779 [00:00<?, ?it/s]"
      ]
     },
     "metadata": {},
     "output_type": "display_data"
    }
   ],
   "source": [
    "v._open()\n",
    "v.max_images_to_read=-1\n",
    "v.read(callback=reader_callback, store_data=False)"
   ]
  },
  {
   "cell_type": "code",
   "execution_count": 136,
   "id": "b8f5cab8-dd57-4dd8-af37-d8a75eb0398c",
   "metadata": {},
   "outputs": [
    {
     "data": {
      "text/plain": [
       "array([[39., 39., 41., ..., 50., 50., 50.],\n",
       "       [39., 39., 42., ..., 50., 50., 50.],\n",
       "       [41., 41., 43., ..., 48., 48., 48.],\n",
       "       ...,\n",
       "       [55., 56., 56., ..., 53., 53., 53.],\n",
       "       [55., 56., 56., ..., 53., 53., 53.],\n",
       "       [ 0.,  0.,  0., ...,  0.,  0.,  0.]])"
      ]
     },
     "execution_count": 136,
     "metadata": {},
     "output_type": "execute_result"
    }
   ],
   "source": [
    "outputter.output_data"
   ]
  },
  {
   "cell_type": "code",
   "execution_count": 137,
   "id": "63528c6e-1b20-468f-aa7a-553cabad4208",
   "metadata": {},
   "outputs": [
    {
     "data": {
      "text/plain": [
       "(24780, 8437)"
      ]
     },
     "execution_count": 137,
     "metadata": {},
     "output_type": "execute_result"
    }
   ],
   "source": [
    "outputter.output_data.shape"
   ]
  },
  {
   "cell_type": "code",
   "execution_count": 138,
   "id": "8e45f3eb-4db9-4f7a-b8b3-4fe52bcc7b6d",
   "metadata": {},
   "outputs": [],
   "source": [
    "i = outputter.output_data.sum(axis=1)"
   ]
  },
  {
   "cell_type": "code",
   "execution_count": 140,
   "id": "428174dd-a5f2-4b4b-ac4d-3a5382daf3b2",
   "metadata": {},
   "outputs": [
    {
     "data": {
      "text/plain": [
       "(24780,)"
      ]
     },
     "execution_count": 140,
     "metadata": {},
     "output_type": "execute_result"
    }
   ],
   "source": [
    "i.shape"
   ]
  },
  {
   "cell_type": "code",
   "execution_count": 142,
   "id": "01b65326-0ec3-4f80-9a4c-d888b22fd102",
   "metadata": {},
   "outputs": [
    {
     "data": {
      "text/plain": [
       "[<matplotlib.lines.Line2D at 0x16b9dee90>]"
      ]
     },
     "execution_count": 142,
     "metadata": {},
     "output_type": "execute_result"
    },
    {
     "data": {
      "application/vnd.jupyter.widget-view+json": {
       "model_id": "e2050d9b9c9f4a40bac388202b3f773e",
       "version_major": 2,
       "version_minor": 0
      },
      "image/png": "[encoded data removed]",
      "text/html": [
       "\n",
       "            <div style=\"display: inline-block;\">\n",
       "                <div class=\"jupyter-widgets widget-label\" style=\"text-align: center;\">\n",
       "                    Figure\n",
       "                </div>\n",
       "                <img src='data:image/png;base64,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' width=432.0/>\n",
       "            </div>\n",
       "        "
      ],
      "text/plain": [
       "Canvas(toolbar=Toolbar(toolitems=[('Home', 'Reset original view', 'home', 'home'), ('Back', 'Back to previous …"
      ]
     },
     "metadata": {},
     "output_type": "display_data"
    }
   ],
   "source": [
    "fig, ax = plt.subplots()\n",
    "ax.plot(i)"
   ]
  },
  {
   "cell_type": "code",
   "execution_count": null,
   "id": "7631627f-f24e-416d-8bad-cf31fbbada04",
   "metadata": {},
   "outputs": [],
   "source": []
  }
 ],
 "metadata": {
  "kernelspec": {
   "display_name": "Python 3 (ipykernel)",
   "language": "python",
   "name": "python3"
  },
  "language_info": {
   "codemirror_mode": {
    "name": "ipython",
    "version": 3
   },
   "file_extension": ".py",
   "mimetype": "text/x-python",
   "name": "python",
   "nbconvert_exporter": "python",
   "pygments_lexer": "ipython3",
   "version": "3.10.5"
  }
 },
 "nbformat": 4,
 "nbformat_minor": 5
}
